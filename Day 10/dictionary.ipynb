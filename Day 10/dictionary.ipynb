{
 "cells": [
  {
   "cell_type": "markdown",
   "metadata": {},
   "source": [
    "# Data Structure \n",
    "- ordered\n",
    "- mutable\n",
    "- key-value pairs(unindex)\n",
    "- keys are unique\n",
    "- values can be any data types\n",
    "- keys should be immutable ('int','float','string','tuple')\n",
    "- keys are case-sensitive\n",
    "- represented with '()'\n",
    "- 'dict()' is used to make a dictonary\n"
   ]
  },
  {
   "cell_type": "code",
   "execution_count": 1,
   "metadata": {},
   "outputs": [
    {
     "name": "stdout",
     "output_type": "stream",
     "text": [
      "{} {'apple': 50, 'mango': 25, 'banana': 35} {'almond': 500, 'cashew': 1000}\n"
     ]
    }
   ],
   "source": [
    "a = {}  # empty dictonary\n",
    "b = {'apple':50, 'mango':25, 'banana':35}\n",
    "\n",
    "c = dict (almond=500, cashew=1000)\n",
    "\n",
    "print(a,b,c)"
   ]
  },
  {
   "cell_type": "code",
   "execution_count": 4,
   "metadata": {},
   "outputs": [
    {
     "name": "stdout",
     "output_type": "stream",
     "text": [
      "{'k1': {'k11': 10, 'k12': 20}, 'k2': {'k21': 30, 'k22': 40}}\n"
     ]
    }
   ],
   "source": [
    "d = {\"k1\": {\n",
    "        \"k11\":10,\n",
    "        \"k12\":20\n",
    "},\n",
    "\"k2\": {\n",
    "        \"k21\":30,\n",
    "        \"k22\":40\n",
    "}}\n",
    "print(d)"
   ]
  },
  {
   "cell_type": "code",
   "execution_count": 10,
   "metadata": {},
   "outputs": [
    {
     "name": "stdout",
     "output_type": "stream",
     "text": [
      "50\n",
      "50\n",
      "50\n",
      "50\n",
      "50\n"
     ]
    }
   ],
   "source": [
    "print(b['apples'])  # direct acess\n",
    "# print(b['apples'])\n",
    "print(b.get('apple', 'not found')) # default values\n",
    "print(b.get('apple'))\n",
    "print(b.get('apples', 'not found')) # default value\n",
    "print(b.get('apples'))"
   ]
  },
  {
   "cell_type": "code",
   "execution_count": 8,
   "metadata": {},
   "outputs": [
    {
     "name": "stdout",
     "output_type": "stream",
     "text": [
      "{'apple': 50, 'mango': 10, 'banana': 35, 'dates': 5, 'peach': 100, 'apples': 50}\n"
     ]
    }
   ],
   "source": [
    "# add/update values\n",
    "b['mango'] = 10   # adding\n",
    "b['dates'] = 5    # adding\n",
    "b['peach'] = 100  # adding\n",
    "b['apples'] = 50  #updating\n",
    "print(b)\n"
   ]
  },
  {
   "cell_type": "code",
   "execution_count": 11,
   "metadata": {},
   "outputs": [
    {
     "name": "stdout",
     "output_type": "stream",
     "text": [
      "{'apple': 50, 'banana': 35, 'dates': 5, 'peach': 100, 'apples': 50}\n"
     ]
    }
   ],
   "source": [
    "# remove \n",
    "b.pop('mango')\n",
    "print(b)"
   ]
  },
  {
   "cell_type": "code",
   "execution_count": 14,
   "metadata": {},
   "outputs": [
    {
     "name": "stdout",
     "output_type": "stream",
     "text": [
      "apple 50\n",
      "banana 35\n",
      "dates 5\n",
      "peach 100\n",
      "apples 50\n",
      "apple 50\n",
      "banana 35\n",
      "dates 5\n",
      "peach 100\n",
      "apples 50\n",
      "50\n",
      "35\n",
      "5\n",
      "100\n",
      "50\n"
     ]
    }
   ],
   "source": [
    "# Traversal\n",
    "#STYLE 1\n",
    "\n",
    "for key in b:\n",
    "    print(key, b[key])\n",
    "\n",
    "\n",
    "# STYLE 2\n",
    "for k,v in b.items(): \n",
    "    print(k, v)\n",
    "\n",
    "\n",
    "\n",
    "#STYLE 3\n",
    "for v in b.values():\n",
    "    print(v)"
   ]
  },
  {
   "cell_type": "code",
   "execution_count": 15,
   "metadata": {},
   "outputs": [
    {
     "data": {
      "text/plain": [
       "dict_keys(['apple', 'banana', 'dates', 'peach', 'apples'])"
      ]
     },
     "execution_count": 15,
     "metadata": {},
     "output_type": "execute_result"
    }
   ],
   "source": [
    "b.keys()"
   ]
  }
 ],
 "metadata": {
  "kernelspec": {
   "display_name": "Python 3",
   "language": "python",
   "name": "python3"
  },
  "language_info": {
   "codemirror_mode": {
    "name": "ipython",
    "version": 3
   },
   "file_extension": ".py",
   "mimetype": "text/x-python",
   "name": "python",
   "nbconvert_exporter": "python",
   "pygments_lexer": "ipython3",
   "version": "3.12.2"
  }
 },
 "nbformat": 4,
 "nbformat_minor": 2
}
