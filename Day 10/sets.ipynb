{
 "cells": [
  {
   "cell_type": "markdown",
   "metadata": {},
   "source": [
    "# Data Structure \n",
    "- unordered\n",
    "- unindexed\n",
    "- mutable\n",
    "- mixed immutable elements\n",
    "- iterable \n",
    "- represent by '()'\n",
    "- its has its function - set() for creating "
   ]
  },
  {
   "cell_type": "code",
   "execution_count": 2,
   "metadata": {},
   "outputs": [
    {
     "name": "stdout",
     "output_type": "stream",
     "text": [
      "set() <class 'set'>\n",
      "{1, 2, 3}\n",
      "{'a', 'b', 'd', 'c'}\n",
      "{1, 2, 3, 4, 5}\n",
      "{'a', 2, 3, 'c', 1, 'b'}\n",
      "{1, 2, 3}\n"
     ]
    }
   ],
   "source": [
    "x = set()  # empty set \n",
    "print(x, type(x))\n",
    "y = {1,2,3}\n",
    "z = {'a','b','c','d'}\n",
    "print(y)\n",
    "print(z)\n",
    "a = set([1,2,3,4,5])\n",
    "print(a)\n",
    "b ={'a',1,'b',2,'c',3}\n",
    "print(b)\n",
    "c = {1,2,3,1,2,3,1,2,3}\n",
    "print(c)"
   ]
  },
  {
   "cell_type": "code",
   "execution_count": 4,
   "metadata": {},
   "outputs": [
    {
     "name": "stdout",
     "output_type": "stream",
     "text": [
      "a\n",
      "2\n",
      "3\n",
      "c\n",
      "1\n",
      "b\n"
     ]
    }
   ],
   "source": [
    "for i in b:\n",
    "    print(i)"
   ]
  },
  {
   "cell_type": "code",
   "execution_count": 5,
   "metadata": {},
   "outputs": [
    {
     "name": "stdout",
     "output_type": "stream",
     "text": [
      "{'Firefight', 'Snapshot', 'Steelheart', 'Lesnstfi', 'Legion'}\n"
     ]
    }
   ],
   "source": [
    "books = set()\n",
    "books.add(\"Legion\")\n",
    "books.add(\"Snapshot\")\n",
    "books.add(\"Steelheart\")\n",
    "books.add(\"Firefight\")\n",
    "books.add(\"Lesnstfi\")\n",
    "print(books)"
   ]
  },
  {
   "cell_type": "code",
   "execution_count": 6,
   "metadata": {},
   "outputs": [
    {
     "name": "stdout",
     "output_type": "stream",
     "text": [
      "{'Mistborn', 'Elantris', 'Firefight', 'Snapshot', 'Steelheart', 'Calamity', 'Lesnstfi', 'Legion'}\n"
     ]
    }
   ],
   "source": [
    "books.update([\"Calamity\",\"Mistborn\",\"Elantris\"])\n",
    "print(books)"
   ]
  },
  {
   "cell_type": "code",
   "execution_count": 9,
   "metadata": {},
   "outputs": [
    {
     "name": "stdout",
     "output_type": "stream",
     "text": [
      "{'Firefight', 'Snapshot', 'Steelheart', 'Calamity', 'Lesnstfi', 'Legion'}\n"
     ]
    }
   ],
   "source": [
    "books.discard(\"Mistborn\")  # discard is better than remove,it is safe to use\n",
    "print(books)"
   ]
  },
  {
   "cell_type": "code",
   "execution_count": 10,
   "metadata": {},
   "outputs": [
    {
     "name": "stdout",
     "output_type": "stream",
     "text": [
      "{'Snapshot', 'Steelheart', 'Calamity', 'Lesnstfi', 'Legion'}\n"
     ]
    }
   ],
   "source": [
    "books.pop()  # removes a random element.\n",
    "print(books)"
   ]
  },
  {
   "cell_type": "markdown",
   "metadata": {},
   "source": [
    "# Set Operations\n",
    "- union() = |\n",
    "- intersection() = &\n",
    "- difference() = -\n",
    "- symmetric_diffrence = ^"
   ]
  },
  {
   "cell_type": "code",
   "execution_count": 11,
   "metadata": {},
   "outputs": [
    {
     "name": "stdout",
     "output_type": "stream",
     "text": [
      "Intersection\n",
      "{4, 5}\n",
      "{4, 5}\n",
      "Difference\n",
      "{1, 2, 3}\n",
      "{1, 2, 3}\n",
      "Symmetric_diffrence\n",
      "{1, 2, 3, 6, 7, 8}\n",
      "{1, 2, 3, 6, 7, 8}\n"
     ]
    }
   ],
   "source": [
    "a = {1,2,3,4,5}\n",
    "b = {4,5,6,7,8}\n",
    "c = {1,2,3}\n",
    "d = {5,6,7}\n",
    "print(\"Intersection\")\n",
    "print(a.intersection(b))\n",
    "print(a & b)\n",
    "print(\"Difference\")\n",
    "print(a.difference(b))\n",
    "print(a - b)\n",
    "print(\"Symmetric_diffrence\")\n",
    "print(a.symmetric_difference(b))\n",
    "print(a ^ b)\n"
   ]
  },
  {
   "cell_type": "code",
   "execution_count": 12,
   "metadata": {},
   "outputs": [
    {
     "name": "stdout",
     "output_type": "stream",
     "text": [
      "{1, 2, 3, 4, 5}\n",
      "{1, 2, 3}\n",
      "joined False\n",
      "disjoined True\n"
     ]
    }
   ],
   "source": [
    "print(a)\n",
    "print(c)\n",
    "print(\"joined\",a.isdisjoint(c))\n",
    "print(\"disjoined\", a.isdisjoint({11,12}))"
   ]
  },
  {
   "cell_type": "code",
   "execution_count": 14,
   "metadata": {},
   "outputs": [
    {
     "name": "stdout",
     "output_type": "stream",
     "text": [
      "Subset: True\n",
      "Superset False\n",
      "Superset True\n"
     ]
    }
   ],
   "source": [
    "print(\"Subset:\",c.issubset(a))\n",
    "print(\"Superset\",d.issuperset(c))\n",
    "print(\"Superset\",b.issuperset(d))"
   ]
  },
  {
   "cell_type": "code",
   "execution_count": 27,
   "metadata": {},
   "outputs": [
    {
     "name": "stdout",
     "output_type": "stream",
     "text": [
      "Your Data\n",
      "{11, 12, 13, 14}\n"
     ]
    }
   ],
   "source": [
    "# WAP that allows users to enter data as much as they want and then \n",
    "# remove duplicates and print all unique data\n",
    "s = set()\n",
    "while True:\n",
    "    num = input(\"Enter a number\")\n",
    "    if num:\n",
    "        s.add(int(num))\n",
    "    else:\n",
    "        break\n",
    "print(\"Your Data\")\n",
    "print(s)\n"
   ]
  }
 ],
 "metadata": {
  "kernelspec": {
   "display_name": "Python 3",
   "language": "python",
   "name": "python3"
  },
  "language_info": {
   "codemirror_mode": {
    "name": "ipython",
    "version": 3
   },
   "file_extension": ".py",
   "mimetype": "text/x-python",
   "name": "python",
   "nbconvert_exporter": "python",
   "pygments_lexer": "ipython3",
   "version": "3.12.2"
  }
 },
 "nbformat": 4,
 "nbformat_minor": 2
}
