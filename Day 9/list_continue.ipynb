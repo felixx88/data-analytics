{
 "cells": [
  {
   "cell_type": "code",
   "execution_count": 1,
   "metadata": {},
   "outputs": [
    {
     "name": "stdout",
     "output_type": "stream",
     "text": [
      "[1, 4, 9, 16]\n"
     ]
    }
   ],
   "source": [
    "x=[1,2,3,4]\n",
    "x2=[]\n",
    "for i in x:\n",
    "    s=i**2\n",
    "    x2.append(s)\n",
    "print(x2)"
   ]
  },
  {
   "cell_type": "code",
   "execution_count": 2,
   "metadata": {},
   "outputs": [
    {
     "name": "stdout",
     "output_type": "stream",
     "text": [
      "[1, 4, 9, 16]\n"
     ]
    }
   ],
   "source": [
    "# list comprehension\n",
    "# syntax- new list= [operation  loop]\n",
    "newlist= [i**2 for i in x]\n",
    "print(x2)"
   ]
  },
  {
   "cell_type": "code",
   "execution_count": 3,
   "metadata": {},
   "outputs": [
    {
     "name": "stdout",
     "output_type": "stream",
     "text": [
      "[144, 196, 25, 400]\n"
     ]
    }
   ],
   "source": [
    "x1=[12,14,5,20]\n",
    "x2=[i**2 for i in x1]\n",
    "print(x2)"
   ]
  },
  {
   "cell_type": "code",
   "execution_count": 4,
   "metadata": {},
   "outputs": [
    {
     "name": "stdout",
     "output_type": "stream",
     "text": [
      "[36, 100, 400, 4]\n"
     ]
    }
   ],
   "source": [
    "# list comprehension with condition (syntax--- newlist=[operation loop condition]\n",
    "\n",
    "x=[1,3,6,7,10,11,20,2]\n",
    "x2=[i**2 for i in x if i%2==0]\n",
    "print(x2)"
   ]
  },
  {
   "cell_type": "code",
   "execution_count": 2,
   "metadata": {},
   "outputs": [
    {
     "name": "stdout",
     "output_type": "stream",
     "text": [
      "['hh', 'rj', 'mn', 'rt', 'rn', 'mh', 'rr', 'nn', 'at', 'sh', 'ar', 'lt', 'vv', 'dy', 'yh']\n",
      "['hh', 'rj', 'mn', 'rt', 'rn', 'mh', 'rr', 'nn', 'at', 'sh', 'ar', 'lt', 'vv', 'dy', 'yh']\n"
     ]
    }
   ],
   "source": [
    "names= [\"harsh\",\"raj\",\"mohan\",\"rohit\",\"rohan\",\"mukesh\",\"rajveer\",\"naman\",\"akshat\",\"suryansh\",\"amar\",\"lalit\",\"vaibhav\",\"divy\",\"yash\"]\n",
    "output = []\n",
    "for i in names:\n",
    "    a = i[0] + i[-1]\n",
    "    output.append(a.lower())\n",
    "print(output)\n",
    "\n",
    "      #comprehension\n",
    "\n",
    "output = [(i[0]+i[-1]).lower() for i in names]\n",
    "print(output)"
   ]
  }
 ],
 "metadata": {
  "kernelspec": {
   "display_name": "Python 3",
   "language": "python",
   "name": "python3"
  },
  "language_info": {
   "codemirror_mode": {
    "name": "ipython",
    "version": 3
   },
   "file_extension": ".py",
   "mimetype": "text/x-python",
   "name": "python",
   "nbconvert_exporter": "python",
   "pygments_lexer": "ipython3",
   "version": "3.12.2"
  }
 },
 "nbformat": 4,
 "nbformat_minor": 2
}
