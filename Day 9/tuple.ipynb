{
 "cells": [
  {
   "cell_type": "markdown",
   "metadata": {},
   "source": [
    "# Data Structure-Tuple\n",
    "- indexed\n",
    "- ordered\n",
    "- immutable\n",
    "- heterogenous\n",
    "- duplicates are allowed\n",
    "- represented using()\n",
    "- tuple() for creating tuple"
   ]
  },
  {
   "cell_type": "code",
   "execution_count": 2,
   "metadata": {},
   "outputs": [
    {
     "name": "stdout",
     "output_type": "stream",
     "text": [
      "<class 'tuple'> <class 'tuple'>\n",
      "<class 'tuple'> <class 'tuple'>\n",
      "(1, 2, 3, 4) (1,) ('a', 'b', 'c') (1, 2, 3, 4, 5, 6)\n"
     ]
    }
   ],
   "source": [
    "a = (1,2,3,4)\n",
    "b = (1,) # single element tuple\n",
    "print(type(a), type(b))\n",
    "c = ('a','b','c')  # tuple for string\n",
    "d = 1,2,3,4,5,6   # packing\n",
    "print(type(c), type(d))\n",
    "print(a,b,c,d)"
   ]
  },
  {
   "cell_type": "code",
   "execution_count": 3,
   "metadata": {},
   "outputs": [
    {
     "name": "stdout",
     "output_type": "stream",
     "text": [
      "1\n",
      "2\n",
      "3\n",
      "4\n"
     ]
    }
   ],
   "source": [
    "# traversing a tuple\n",
    "for i in a:\n",
    "    print(i)"
   ]
  },
  {
   "cell_type": "code",
   "execution_count": 4,
   "metadata": {},
   "outputs": [
    {
     "name": "stdout",
     "output_type": "stream",
     "text": [
      "1\n",
      "4\n",
      "2\n",
      "3\n"
     ]
    }
   ],
   "source": [
    "# indexing\n",
    "print(a[0])  # 1st element \n",
    "print(a[-1]) # last element\n",
    "print(a[1])  # 2nd element\n",
    "print(a[2])  # 3rd element"
   ]
  },
  {
   "cell_type": "code",
   "execution_count": 5,
   "metadata": {},
   "outputs": [
    {
     "name": "stdout",
     "output_type": "stream",
     "text": [
      "(2, 3)\n",
      "(4, 3, 2, 1)\n"
     ]
    }
   ],
   "source": [
    "# slicing \n",
    "print(a[1:3])  # 2nd and 3rd element\n",
    "print(a[::-1]) # reverse"
   ]
  },
  {
   "cell_type": "code",
   "execution_count": null,
   "metadata": {},
   "outputs": [],
   "source": [
    "# this will not work\n",
    "a[0] = 10\n"
   ]
  },
  {
   "cell_type": "markdown",
   "metadata": {},
   "source": [
    "# Methods in tuple\n",
    "- count()\n",
    "- index"
   ]
  },
  {
   "cell_type": "code",
   "execution_count": 12,
   "metadata": {},
   "outputs": [
    {
     "name": "stdout",
     "output_type": "stream",
     "text": [
      "4\n",
      "1\n",
      "3\n",
      "6\n",
      "7\n",
      "12\n",
      "16\n",
      "0\n"
     ]
    }
   ],
   "source": [
    "a =1,1,1,1,2,3,4,5,6,7,4,3,44,5,6,3,13\n",
    "print(a.count(1))\n",
    "print(a.count(2))\n",
    "print(a.count(3))\n",
    "print(a.index(4))\n",
    "print(a.index(5))\n",
    "print(a.index(44))\n",
    "print(a.index(13))\n",
    "print(a.index(1))"
   ]
  },
  {
   "cell_type": "code",
   "execution_count": 24,
   "metadata": {},
   "outputs": [
    {
     "name": "stdout",
     "output_type": "stream",
     "text": [
      "1 2 3 4\n",
      "1 [2, 3, 4]\n",
      "[1, 2, 3] 4\n",
      "1 2 []\n"
     ]
    }
   ],
   "source": [
    "# Tuple Unpacking\n",
    "\n",
    "x = (1,2,3,4)\n",
    "a,b,c,d = x\n",
    "print(a,b,c,d)\n",
    "i,*j = x\n",
    "print(i, j)\n",
    "*i, j = x\n",
    "print(i, j)\n",
    "x = (1,2)  # no error ever\n",
    "i, j, *k = x\n",
    "print(i, j, k)\n",
    "\n",
    "# types of errors\n",
    "# 1. too many  value \n",
    "# 2. not enough values"
   ]
  },
  {
   "cell_type": "code",
   "execution_count": 25,
   "metadata": {},
   "outputs": [
    {
     "name": "stdout",
     "output_type": "stream",
     "text": [
      "(1, 4, 9, 16)\n"
     ]
    }
   ],
   "source": [
    "x = (1,2,3,4)\n",
    "x2 = (i**2 for  i in x)\n",
    "print(tuple(x2))"
   ]
  }
 ],
 "metadata": {
  "kernelspec": {
   "display_name": "Python 3",
   "language": "python",
   "name": "python3"
  },
  "language_info": {
   "codemirror_mode": {
    "name": "ipython",
    "version": 3
   },
   "file_extension": ".py",
   "mimetype": "text/x-python",
   "name": "python",
   "nbconvert_exporter": "python",
   "pygments_lexer": "ipython3",
   "version": "3.12.2"
  }
 },
 "nbformat": 4,
 "nbformat_minor": 2
}
