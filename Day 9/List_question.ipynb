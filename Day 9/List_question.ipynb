{
 "cells": [
  {
   "cell_type": "code",
   "execution_count": 13,
   "metadata": {},
   "outputs": [
    {
     "name": "stdout",
     "output_type": "stream",
     "text": [
      "[0, 1, 2, 3, 4, 5, 6, 7, 8, 9, 10]\n"
     ]
    }
   ],
   "source": [
    "# Write a program that creates an empty list and then asks the user to input integers to add to the list. Print the final list.\n",
    "\n",
    "x = input(\"Please enter a number: \")\n",
    "\n",
    "numbers = []\n",
    "for i in range(int(x)):\n",
    "    numbers.append(i)\n",
    "\n",
    "print(numbers)"
   ]
  },
  {
   "cell_type": "code",
   "execution_count": 23,
   "metadata": {},
   "outputs": [
    {
     "name": "stdout",
     "output_type": "stream",
     "text": [
      "Number is present = 9\n"
     ]
    }
   ],
   "source": [
    "# Write a program that creates a list of integers and then asks the user to input an integer to check if it exists in the list. Print a message indicating whether the integer is in the list or not.\n",
    "\n",
    "x =[11,12,13,14,15,16,17,18,19,20]\n",
    "num = int(input(\"Enter a number\"))\n",
    "if num in x:\n",
    "    print(\"Number is present =\", x.index(num))\n",
    "else:\n",
    "    print(\"Number is not present\")"
   ]
  },
  {
   "cell_type": "code",
   "execution_count": 25,
   "metadata": {},
   "outputs": [
    {
     "name": "stdout",
     "output_type": "stream",
     "text": [
      "['ansh', 'durgesh', 'harsh', 'kunal', 'mukesh', 'nikhil', 'nitin', 'vaibhav', 'yash']\n"
     ]
    }
   ],
   "source": [
    "# Write a program that creates a list of strings and then sorts the list alphabetically. Print the sorted list.\n",
    "mylist = [\"yash\",\"nikhil\",\"vaibhav\",\"harsh\",\"mukesh\",\"durgesh\",\"ansh\",\"nitin\",\"kunal\"]\n",
    "sort = sorted(mylist)\n",
    "print(sort)"
   ]
  },
  {
   "cell_type": "code",
   "execution_count": 42,
   "metadata": {},
   "outputs": [
    {
     "name": "stdout",
     "output_type": "stream",
     "text": [
      "List elements = 12\n",
      "List elements = 324\n",
      "List elements = 543\n",
      "List elements = 6544\n",
      "List elements = 3456\n",
      "Largest element is: 6544\n"
     ]
    }
   ],
   "source": [
    "# Write a program that creates a list of integers and then finds the maximum value in the list. Print the maximum value.\n",
    "\n",
    "list1 = []\n",
    "num = int(input(\"Enter number of elements in list: \"))\n",
    "for i in range(1, num + 1):\n",
    "    ele = int(input(\"Enter elements: \"))\n",
    "    list1.append(ele)\n",
    "    print(\"List elements =\", ele)    \n",
    "print(\"Largest element is:\", max(list1))\n",
    "\n"
   ]
  },
  {
   "cell_type": "code",
   "execution_count": 53,
   "metadata": {},
   "outputs": [
    {
     "name": "stdout",
     "output_type": "stream",
     "text": [
      "{10, 5}\n"
     ]
    }
   ],
   "source": [
    "# Write a program that creates two lists of integers and then finds the common elements between those two lists. Print the common elements.\n",
    "\n",
    "def common(a, b): \n",
    "\ta = set(a)\n",
    "\tb = set(b)\n",
    "\tif len(a.intersection(b)) > 0:\n",
    "\t\treturn(a.intersection(b)) \n",
    "\telse:\n",
    "\t\treturn(\"no common elements\")\n",
    "a = [1, 2, 3, 4,10, 5]\n",
    "b = [5, 6, 7, 8, 9,10]\n",
    "print(common(a, b))"
   ]
  },
  {
   "cell_type": "code",
   "execution_count": 3,
   "metadata": {},
   "outputs": [
    {
     "name": "stdout",
     "output_type": "stream",
     "text": [
      "The original string is : Python is the best computer language today\n",
      "The string after substring removal : Python is the computer today\n"
     ]
    }
   ],
   "source": [
    "# Write a program that creates a list of strings and then removes all elements that contain a specific substring. Print the final list.\n",
    "# initializing string\n",
    "test_str = \"Python is the best computer language today\"\n",
    "print(\"The original string is : \" + test_str)\n",
    "sub_list = [\"best\", \"language\"]\n",
    "for sub in sub_list:\n",
    "\ttest_str = test_str.replace(' ' + sub + ' ', ' ')\n",
    "print(\"The string after substring removal : \" + test_str)\n"
   ]
  },
  {
   "cell_type": "code",
   "execution_count": 5,
   "metadata": {},
   "outputs": [
    {
     "name": "stdout",
     "output_type": "stream",
     "text": [
      "5\n"
     ]
    }
   ],
   "source": [
    "# Write a program that creates a nested list and then accesses a specific element in the list. Print the accessed element.\n",
    "nested_list = [[1,2,3],[4,5,6],[7,8,9]]\n",
    "value = nested_list[1][1]\n",
    "print(value)"
   ]
  },
  {
   "cell_type": "code",
   "execution_count": 9,
   "metadata": {},
   "outputs": [
    {
     "name": "stdout",
     "output_type": "stream",
     "text": [
      "[1, 2, 3, 4, 5, 6, 78, 8]\n"
     ]
    }
   ],
   "source": [
    "# Write a program that creates a list of integers and then removes all duplicates from the list. Print the final list.\n",
    "\n",
    "list1 = [1,2,3,4,1,2,5,6,78,8,78]\n",
    "newlist=[]\n",
    "for i in list1:\n",
    "    if i not in newlist:\n",
    "        newlist.append(i)\n",
    "print(newlist)"
   ]
  },
  {
   "cell_type": "code",
   "execution_count": 22,
   "metadata": {},
   "outputs": [
    {
     "name": "stdout",
     "output_type": "stream",
     "text": [
      "32\n",
      "hsjskskhdhkddkdldkjkgdkldfjjkdsj\n"
     ]
    }
   ],
   "source": [
    "# Write a program that creates a list of strings and then finds the longest string in the list. Print the longest string.\n",
    "list_str =['harsh','ram','lucknowwww','hdjkssjssknkcdns','hsjskskhdhkddkdldkjkgdkldfjjkdsj']\n",
    "long = -1\n",
    "for ele in list_str:\n",
    "    if len(ele) > long:\n",
    "        long = len(ele)\n",
    "        value = ele\n",
    "print(long)\n",
    "print(value)"
   ]
  },
  {
   "cell_type": "code",
   "execution_count": 30,
   "metadata": {},
   "outputs": [
    {
     "name": "stdout",
     "output_type": "stream",
     "text": [
      "8554\n"
     ]
    }
   ],
   "source": [
    "# Write a program that creates a list of integers and then finds the sum of all the even numbers in the list. Print the sum.\n",
    "num_llist = [1,2,4,6,7,55,44,88,65,23,45,7766,8,76,544,3,6,9,10]\n",
    "sum = 0\n",
    "for i in num_llist:\n",
    "    if i%2==0:\n",
    "        sum = sum+i\n",
    "print(sum)"
   ]
  },
  {
   "cell_type": "code",
   "execution_count": 36,
   "metadata": {},
   "outputs": [
    {
     "name": "stdout",
     "output_type": "stream",
     "text": [
      "[1, 2, 4, 6, 55, 44, 88, 65, 23, 45, 7766, 8, 76, 544, 3, 6, 9, 10]\n"
     ]
    }
   ],
   "source": [
    "# Write a program that creates a list of integers and then asks the user to input a position to remove an element from the list. Print the final list.\n",
    "num_llist = [1,2,4,6,7,55,44,88,65,23,45,7766,8,76,544,3,6,9,10]\n",
    "del num_llist[4]\n",
    "print(num_llist)\n",
    "\n"
   ]
  },
  {
   "cell_type": "code",
   "execution_count": 38,
   "metadata": {},
   "outputs": [
    {
     "name": "stdout",
     "output_type": "stream",
     "text": [
      "Harsh Kumar Shukla\n"
     ]
    }
   ],
   "source": [
    "# Write a program that creates a list of strings and then concatenates all the strings into a single string. Print the final string.\n",
    "w1 = \"Harsh\"\n",
    "w2 = \"Kumar\"\n",
    "w3 = \"Shukla\"\n",
    "final = w1+\" \"+w2+\" \"+w3\n",
    "print(final)"
   ]
  },
  {
   "cell_type": "code",
   "execution_count": 48,
   "metadata": {},
   "outputs": [
    {
     "name": "stdout",
     "output_type": "stream",
     "text": [
      "49.5\n"
     ]
    },
    {
     "data": {
      "text/plain": [
       "'x = len(v)\\nmedian = x/2\\nprint(v[3])\\nprint(int(median))\\nprint(x)'"
      ]
     },
     "execution_count": 48,
     "metadata": {},
     "output_type": "execute_result"
    }
   ],
   "source": [
    "# Write a program that creates a list of integers and then finds the median value of the list. Print the median.\n",
    "import statistics\n",
    "v = [22,33,44,55,66,77]\n",
    "value = statistics.median(v)\n",
    "print(value)\n",
    "'''x = len(v)\n",
    "median = x/2\n",
    "print(v[3])\n",
    "print(int(median))\n",
    "print(x)'''"
   ]
  },
  {
   "cell_type": "code",
   "execution_count": 57,
   "metadata": {},
   "outputs": [
    {
     "name": "stdout",
     "output_type": "stream",
     "text": [
      "['hsay']\n",
      "['lihkin']\n",
      "['vahbiav']\n",
      "['hsrah']\n",
      "['hsekum']\n",
      "['hsegrud']\n",
      "['hsna']\n",
      "['nitin']\n",
      "['lanuk']\n"
     ]
    }
   ],
   "source": [
    "# Write a program that creates a list of strings and then reverses the order of the strings in the list. Print the reversed list.\n",
    "\n",
    "mylist = [\"yash\",\"nikhil\",\"vaibhav\",\"harsh\",\"mukesh\",\"durgesh\",\"ansh\",\"nitin\",\"kunal\"]\n",
    "for i in mylist:\n",
    "    sort = [i[::-1]]\n",
    "    print(sort)\n",
    "\n",
    "\n",
    "\n",
    "\n",
    "\n"
   ]
  },
  {
   "cell_type": "code",
   "execution_count": 60,
   "metadata": {},
   "outputs": [
    {
     "name": "stdout",
     "output_type": "stream",
     "text": [
      "Average = 49\n"
     ]
    }
   ],
   "source": [
    "# Write a program that creates a list of integers and then calculates the average of all the numbers in the list. Print the average.\n",
    "\n",
    "num_llist = [22,33,44,55,66,77]\n",
    "sum = 0\n",
    "avg = 0\n",
    "x = len(num_llist)\n",
    "for i in num_llist:\n",
    "    sum = sum + i \n",
    "    avg = sum // x\n",
    "print(\"Average =\", avg)"
   ]
  },
  {
   "cell_type": "code",
   "execution_count": 4,
   "metadata": {},
   "outputs": [
    {
     "name": "stdout",
     "output_type": "stream",
     "text": [
      "0 1 2 3 4 5 "
     ]
    }
   ],
   "source": [
    "# Write a program that creates a list of integers and then finds the index of a specific element in the list. Print the index.\n",
    "num_llist = [22,33,44,55,66,77]\n",
    "for i in num_llist:\n",
    "    print(num_llist.index(i), end=\" \")"
   ]
  },
  {
   "cell_type": "code",
   "execution_count": 68,
   "metadata": {},
   "outputs": [
    {
     "name": "stdout",
     "output_type": "stream",
     "text": [
      "Original String: Python is the best computer language today\n",
      "New String: Pythonisthebestcomputerlanguagetoday\n"
     ]
    }
   ],
   "source": [
    "# Write a program that creates a list of strings and then removes all whitespace characters from each string in the list. Print the final list.\n",
    "\n",
    "test_str = \"Python is the best computer language today\"\n",
    "print(\"Original String:\", test_str)\n",
    "new = test_str.replace(\" \", \"\")\n",
    "print(\"New String:\", new)"
   ]
  },
  {
   "cell_type": "code",
   "execution_count": 71,
   "metadata": {},
   "outputs": [
    {
     "name": "stdout",
     "output_type": "stream",
     "text": [
      "[7766, 544, 88, 76, 65, 55, 45, 44, 23, 10, 9, 8, 7, 6, 6, 4, 3, 2, 1]\n"
     ]
    }
   ],
   "source": [
    "# Write a program that creates a list of integers and then sorts the list in descending order. Print the sorted list.\n",
    "num_llist = [1,2,4,6,7,55,44,88,65,23,45,7766,8,76,544,3,6,9,10]\n",
    "num_llist.sort(reverse=True)\n",
    "print(num_llist)"
   ]
  },
  {
   "cell_type": "code",
   "execution_count": 73,
   "metadata": {},
   "outputs": [
    {
     "name": "stdout",
     "output_type": "stream",
     "text": [
      "[0, 1, 3, 5, 7, 9, 11, 13, 15, 17, 19]\n"
     ]
    }
   ],
   "source": [
    "# Write a program that creates a list of integers and then asks the user to input a value to add to the list. Add the value to the beginning of the list and print the final list.\n",
    "\n",
    "list = [1,3,5,7,9,11,13,15,17,19]\n",
    "list.insert(0,0)\n",
    "print(list)"
   ]
  },
  {
   "cell_type": "code",
   "execution_count": 74,
   "metadata": {},
   "outputs": [
    {
     "name": "stdout",
     "output_type": "stream",
     "text": [
      "[1, 2, 3, 4, 5, 6, 7, 8, 9, 10, 11, 12]\n"
     ]
    }
   ],
   "source": [
    "# Write a program that creates two lists of integers and then concatenates those two lists into a single list. Print the final list. \n",
    "L1 = [1,2,3,4,5,6]\n",
    "L2 = [7,8,9,10,11,12]\n",
    "final = L1 + L2\n",
    "print(final)"
   ]
  },
  {
   "cell_type": "code",
   "execution_count": 80,
   "metadata": {},
   "outputs": [
    {
     "name": "stdout",
     "output_type": "stream",
     "text": [
      "4 16 36 64 100 "
     ]
    }
   ],
   "source": [
    "# Write a program that uses the map function to create a new list that contains the squares of each element in a user inputted list of integers.\n",
    "data = [2,4,6,8,10]\n",
    "square = map(lambda x: x*x, data)\n",
    "for i in square:\n",
    "    print(i, end=\" \")"
   ]
  },
  {
   "cell_type": "code",
   "execution_count": 3,
   "metadata": {},
   "outputs": [
    {
     "name": "stdout",
     "output_type": "stream",
     "text": [
      "['1', '2', '3', '4']\n"
     ]
    },
    {
     "data": {
      "text/plain": [
       "['1', '2', '3', '4']"
      ]
     },
     "execution_count": 3,
     "metadata": {},
     "output_type": "execute_result"
    }
   ],
   "source": [
    "# Write a program that uses a lambda expression and the map function to convert a list of integers to a list of strings. Print the new list.\n",
    "x = [1,2,3,4]\n",
    "y = []\n",
    "for i in x:\n",
    "    y.append(str(i))\n",
    "print(y)\n",
    "\n",
    "list(map(lambda i: str(i), x))"
   ]
  },
  {
   "cell_type": "code",
   "execution_count": null,
   "metadata": {},
   "outputs": [],
   "source": [
    "# Write a program that uses a lambda expression and the map function to convert a list of integers to a list of strings. Print the new list.\n",
    "# Write a program that uses a lambda expression and the map function to add 10 to each element in a list of integers. Print the new list.\n",
    "# Write a program that uses the map function to create a new list that contains the first letter of each string in a user inputted list of strings.\n",
    "# Write a program that uses a lambda expression and the map function to convert a list of Celsius temperatures to a list of Fahrenheit temperatures. Print the new list.\n",
    "# Write a program that uses a lambda expression and the map function to convert a list of strings to a list of integers. Print the new list.\n",
    "# Write a program that uses the map function to create a new list that contains the length of each string in a user inputted list of strings.\n",
    "# Write a program that uses a lambda expression and the map function to calculate the square root of each element in a list of integers. Print the new list.\n",
    "# Write a program that uses a lambda expression and the map function to convert a list of integers to their absolute values. Print the new list.\n",
    "# Write a program that uses the map function to create a new list that contains the uppercase version of each string in a user inputted list of strings.\n",
    "# Write a program that uses the filter function to create a new list that contains only the even numbers from a user inputted list of integers.\n",
    "# Write a program that uses a lambda expression and the filter function to create a new list that contains only the strings that start with a vowel from a user inputted list of strings.\n",
    "# Write a program that uses the filter function to create a new list that contains only the strings with a length greater than 5 from a user inputted list of strings.\n",
    "# Write a program that uses a lambda expression and the filter function to create a new list that contains only the positive numbers from a user inputted list of integers.\n",
    "# Write a program that uses the filter function to create a new list that contains only the strings that contain the letter \"e\" from a user inputted list of strings."
   ]
  },
  {
   "cell_type": "code",
   "execution_count": null,
   "metadata": {},
   "outputs": [],
   "source": []
  },
  {
   "cell_type": "code",
   "execution_count": null,
   "metadata": {},
   "outputs": [],
   "source": []
  }
 ],
 "metadata": {
  "kernelspec": {
   "display_name": "Python 3",
   "language": "python",
   "name": "python3"
  },
  "language_info": {
   "codemirror_mode": {
    "name": "ipython",
    "version": 3
   },
   "file_extension": ".py",
   "mimetype": "text/x-python",
   "name": "python",
   "nbconvert_exporter": "python",
   "pygments_lexer": "ipython3",
   "version": "3.12.4"
  }
 },
 "nbformat": 4,
 "nbformat_minor": 2
}
