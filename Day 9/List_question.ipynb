{
 "cells": [
  {
   "cell_type": "code",
   "execution_count": 13,
   "metadata": {},
   "outputs": [
    {
     "name": "stdout",
     "output_type": "stream",
     "text": [
      "[0, 1, 2, 3, 4, 5, 6, 7, 8, 9, 10]\n"
     ]
    }
   ],
   "source": [
    "# Write a program that creates an empty list and then asks the user to input integers to add to the list. Print the final list.\n",
    "\n",
    "x = input(\"Please enter a number: \")\n",
    "\n",
    "numbers = []\n",
    "for i in range(int(x)):\n",
    "    numbers.append(i)\n",
    "\n",
    "print(numbers)"
   ]
  },
  {
   "cell_type": "code",
   "execution_count": 23,
   "metadata": {},
   "outputs": [
    {
     "name": "stdout",
     "output_type": "stream",
     "text": [
      "Number is present = 9\n"
     ]
    }
   ],
   "source": [
    "# Write a program that creates a list of integers and then asks the user to input an integer to check if it exists in the list. Print a message indicating whether the integer is in the list or not.\n",
    "\n",
    "x =[11,12,13,14,15,16,17,18,19,20]\n",
    "num = int(input(\"Enter a number\"))\n",
    "if num in x:\n",
    "    print(\"Number is present =\", x.index(num))\n",
    "else:\n",
    "    print(\"Number is not present\")"
   ]
  },
  {
   "cell_type": "code",
   "execution_count": 25,
   "metadata": {},
   "outputs": [
    {
     "name": "stdout",
     "output_type": "stream",
     "text": [
      "['ansh', 'durgesh', 'harsh', 'kunal', 'mukesh', 'nikhil', 'nitin', 'vaibhav', 'yash']\n"
     ]
    }
   ],
   "source": [
    "# Write a program that creates a list of strings and then sorts the list alphabetically. Print the sorted list.\n",
    "mylist = [\"yash\",\"nikhil\",\"vaibhav\",\"harsh\",\"mukesh\",\"durgesh\",\"ansh\",\"nitin\",\"kunal\"]\n",
    "sort = sorted(mylist)\n",
    "print(sort)"
   ]
  },
  {
   "cell_type": "code",
   "execution_count": 42,
   "metadata": {},
   "outputs": [
    {
     "name": "stdout",
     "output_type": "stream",
     "text": [
      "List elements = 12\n",
      "List elements = 324\n",
      "List elements = 543\n",
      "List elements = 6544\n",
      "List elements = 3456\n",
      "Largest element is: 6544\n"
     ]
    }
   ],
   "source": [
    "# Write a program that creates a list of integers and then finds the maximum value in the list. Print the maximum value.\n",
    "\n",
    "list1 = []\n",
    "num = int(input(\"Enter number of elements in list: \"))\n",
    "for i in range(1, num + 1):\n",
    "    ele = int(input(\"Enter elements: \"))\n",
    "    list1.append(ele)\n",
    "    print(\"List elements =\", ele)    \n",
    "print(\"Largest element is:\", max(list1))\n",
    "\n"
   ]
  },
  {
   "cell_type": "code",
   "execution_count": 53,
   "metadata": {},
   "outputs": [
    {
     "name": "stdout",
     "output_type": "stream",
     "text": [
      "{10, 5}\n"
     ]
    }
   ],
   "source": [
    "# Write a program that creates two lists of integers and then finds the common elements between those two lists. Print the common elements.\n",
    "\n",
    "def common(a, b): \n",
    "\ta = set(a)\n",
    "\tb = set(b)\n",
    "\tif len(a.intersection(b)) > 0:\n",
    "\t\treturn(a.intersection(b)) \n",
    "\telse:\n",
    "\t\treturn(\"no common elements\")\n",
    "a = [1, 2, 3, 4,10, 5]\n",
    "b = [5, 6, 7, 8, 9,10]\n",
    "print(common(a, b))"
   ]
  },
  {
   "cell_type": "code",
   "execution_count": null,
   "metadata": {},
   "outputs": [],
   "source": [
    "# Write a program that creates a list of strings and then removes all elements that contain a specific substring. Print the final list."
   ]
  }
 ],
 "metadata": {
  "kernelspec": {
   "display_name": "Python 3",
   "language": "python",
   "name": "python3"
  },
  "language_info": {
   "codemirror_mode": {
    "name": "ipython",
    "version": 3
   },
   "file_extension": ".py",
   "mimetype": "text/x-python",
   "name": "python",
   "nbconvert_exporter": "python",
   "pygments_lexer": "ipython3",
   "version": "3.12.2"
  }
 },
 "nbformat": 4,
 "nbformat_minor": 2
}
