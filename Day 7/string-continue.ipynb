{
 "cells": [
  {
   "cell_type": "markdown",
   "metadata": {},
   "source": [
    "# STRING METHODS\n",
    "\n",
    "- 1.Formattting\n",
    "- 2.Validation\n",
    "- 3.Utility"
   ]
  },
  {
   "cell_type": "code",
   "execution_count": 2,
   "metadata": {},
   "outputs": [
    {
     "name": "stdout",
     "output_type": "stream",
     "text": [
      "Original:  Journey before Destination\n",
      "Upper: JOURNEY BEFORE DESTINATION\n",
      "Lower: journey before destination\n",
      "Capitalize: Journey before destination\n",
      "Title: Journey Before Destination\n",
      "Swapcase: jOURNEY BEFORE dESTINATION\n",
      "Casefold: journey before destination\n",
      "Journey before Destination\n"
     ]
    }
   ],
   "source": [
    "#  FORMATTING\n",
    "\n",
    "quote = \"Journey before Destination\"\n",
    "print(\"Original: \",quote)\n",
    "print(\"Upper:\", quote.upper())\n",
    "print(\"Lower:\",quote.lower())\n",
    "print(\"Capitalize:\",quote.capitalize())    # first letter only \n",
    "print(\"Title:\",quote.title())     # all words first letter \n",
    "print(\"Swapcase:\",quote.swapcase())\n",
    "print(\"Casefold:\",quote.casefold())  # lower case \n",
    "print(quote)"
   ]
  },
  {
   "cell_type": "code",
   "execution_count": 4,
   "metadata": {},
   "outputs": [
    {
     "name": "stdout",
     "output_type": "stream",
     "text": [
      "Journey before Destination                                                                          \n",
      "Journey before Destination--------------------------------------------------------------------------\n",
      "                                                                          Journey before Destination\n",
      "^^^^^^^^^^^^^^^^^^^^^^^^^^^^^^^^^^^^^^^^^^^^^^^^^^^^^^^^^^^^^^^^^^^^^^^^^^Journey before Destination\n",
      "                                     Journey before Destination                                     \n",
      "-------------------------------------Journey before Destination-------------------------------------\n"
     ]
    }
   ],
   "source": [
    "print(quote.ljust(100))\n",
    "print(quote.ljust(100, '-'))\n",
    "print(quote.rjust(100))\n",
    "print(quote.rjust(100,'^'))\n",
    "print(quote.center(100))\n",
    "print(quote.center(100, '-'))"
   ]
  },
  {
   "cell_type": "code",
   "execution_count": 6,
   "metadata": {},
   "outputs": [
    {
     "name": "stdout",
     "output_type": "stream",
     "text": [
      "True\n",
      "False\n",
      "False\n",
      "True\n",
      "False\n",
      "True\n",
      "True\n",
      "True\n",
      "False\n",
      "False\n",
      "True\n",
      "True\n",
      "True\n",
      "False\n"
     ]
    }
   ],
   "source": [
    "# VALIDATION\n",
    "\n",
    "print('1234'.isdigit())\n",
    "print('12 4'.isdigit())\n",
    "print('1apple'.isalpha())\n",
    "print('apple'.isalpha())\n",
    "print('apple ios'.isalpha())\n",
    "print('apple1234'.isalnum())\n",
    "print('1234'.isalnum())\n",
    "print('cherry'.isalnum())\n",
    "print('cherry 1234'.isalnum())\n",
    "print('cherry 1234'.isnumeric())\n",
    "print('1234'.isnumeric())\n",
    "print('   '.isspace())\n",
    "print('   '.isspace())\n",
    "print('1 2 3 4'.isspace())\n",
    "\n",
    "\n"
   ]
  },
  {
   "cell_type": "code",
   "execution_count": 8,
   "metadata": {},
   "outputs": [
    {
     "name": "stdout",
     "output_type": "stream",
     "text": [
      "GREAT\n"
     ]
    }
   ],
   "source": [
    "num = input(\"enter a number \")\n",
    "if num.isnumeric():\n",
    "    num = int(num)\n",
    "    print(\"GREAT\")\n",
    "else:\n",
    "    print(\"ERROR FOUND\")"
   ]
  },
  {
   "cell_type": "code",
   "execution_count": 9,
   "metadata": {},
   "outputs": [
    {
     "name": "stdout",
     "output_type": "stream",
     "text": [
      "True\n",
      "False\n",
      "False\n",
      "True\n",
      "False\n",
      "True\n",
      "False\n"
     ]
    }
   ],
   "source": [
    "print('apple'.startswith('a'))\n",
    "print('apple'.startswith('A'))\n",
    "print('apple'.startswith('b'))\n",
    "print('apple'.endswith('e'))\n",
    "print('book.pdf'.endswith('book'))\n",
    "print('book_one.pdf'.startswith('book'))\n",
    "print('book_one.pdf'.startswith('one'))"
   ]
  },
  {
   "cell_type": "code",
   "execution_count": 10,
   "metadata": {},
   "outputs": [
    {
     "name": "stdout",
     "output_type": "stream",
     "text": [
      "a.exe\n",
      "1\n",
      "b.exe\n",
      "2\n",
      "d.exe\n",
      "3\n"
     ]
    }
   ],
   "source": [
    "apps = ['a.exe','b.exe','c.pdf','d.exe','f.doc','g.pdf']\n",
    "c=0\n",
    "for app in apps:\n",
    "    if app.endswith('.exe'):\n",
    "        c+=1\n",
    "        print(app)\n",
    "        print(c)\n"
   ]
  },
  {
   "cell_type": "code",
   "execution_count": 14,
   "metadata": {},
   "outputs": [
    {
     "name": "stdout",
     "output_type": "stream",
     "text": [
      "5\n",
      "-1\n",
      "4\n",
      "20\n",
      "-1\n",
      "19\n",
      "-1\n",
      "-1\n"
     ]
    }
   ],
   "source": [
    "# UTILITY - find, replace, count, strip, split, join \n",
    "\n",
    "print(quote.find('e'))  # first occrance \n",
    "print(quote.find('earing')) \n",
    "print(quote.find('n'))\n",
    "print(quote.find('n', 5))  # starts from 5 index\n",
    "print(quote.find('i',1, 10))    # starts from 1 index ,stop 10 index\n",
    "print(quote.find('i'))\n",
    "print(quote.find('fore de'))\n",
    "print(quote.find('forede'))\n"
   ]
  },
  {
   "cell_type": "code",
   "execution_count": 24,
   "metadata": {},
   "outputs": [
    {
     "name": "stdout",
     "output_type": "stream",
     "text": [
      "Journey before Destination\n",
      "Journey after Destination\n",
      "Journay bafora Dastination\n",
      "Journay bafore Destination\n",
      "Journ---y b---for--- D---stination\n",
      "Journ⍀y b⍀for⍀ D⍀stination\n",
      "Death before Destination\n",
      "D$#th b$for$ D$st%n#t%on\n"
     ]
    }
   ],
   "source": [
    "quote = \"Journey before Destination\"\n",
    "print(quote)\n",
    "print(quote.replace(\"before\",\"after\"))\n",
    "print(quote.replace(\"e\",\"a\"))\n",
    "print(quote.replace(\"e\",\"a\",2))\n",
    "print(quote.replace(\"e\",\"---\"))\n",
    "print(quote.replace(\"e\",\"⍀\"))\n",
    "\n",
    "quote = quote.replace(\"Journey\",\"Death\")\n",
    "print(quote)\n",
    "quote = quote.replace(\"a\",\"#\").replace(\"e\",\"$\").replace(\"i\",\"%\")\n",
    "print(quote)\n"
   ]
  },
  {
   "cell_type": "code",
   "execution_count": 28,
   "metadata": {},
   "outputs": [
    {
     "name": "stdout",
     "output_type": "stream",
     "text": [
      "4\n",
      "4\n",
      "0\n",
      "2\n"
     ]
    }
   ],
   "source": [
    "words = 'haaa naaa haaa naaa haaa haaa naaa naaa'\n",
    "print(words.count('haaa'))\n",
    "print(words.count('naaa'))\n",
    "print(words.count('hana'))\n",
    "print(words.count('naaa h'))"
   ]
  },
  {
   "cell_type": "code",
   "execution_count": 31,
   "metadata": {},
   "outputs": [
    {
     "name": "stdout",
     "output_type": "stream",
     "text": [
      " Alex mason \n",
      "Alex mason\n",
      " Alex mason \n",
      " \n",
      "\n",
      "         1234456789\n",
      "\n",
      "\n",
      "1234456789\n"
     ]
    }
   ],
   "source": [
    "name = ' Alex mason '\n",
    "print(name)\n",
    "print(name.strip())  # starting white spaces (e.g.\\n,\\t)\n",
    "print(name)\n",
    "data = ''' \n",
    "\n",
    "         1234456789\n",
    "\n",
    "'''\n",
    "print(data)\n",
    "print(data.strip())"
   ]
  },
  {
   "cell_type": "code",
   "execution_count": 32,
   "metadata": {},
   "outputs": [
    {
     "name": "stdout",
     "output_type": "stream",
     "text": [
      "1234456789\n"
     ]
    }
   ],
   "source": [
    "data = data.strip()\n",
    "print(data)"
   ]
  },
  {
   "cell_type": "code",
   "execution_count": 38,
   "metadata": {},
   "outputs": [
    {
     "name": "stdout",
     "output_type": "stream",
     "text": [
      "['haaa', 'naaa', 'haaa', 'naaa', 'haaa', 'haaa', 'naaa', 'naaa']\n",
      "['a', 'b', 'c', 'd']\n",
      "['a', 'b', 'c', 'd']\n",
      "['Jony Johny, yes papa,', 'Eating sugar no papa,', 'Telling lies? no papa,', 'Open your mouth,ha! ha! ha!']\n"
     ]
    }
   ],
   "source": [
    "print(words.split())\n",
    "print(\"a,b,c,d\".split(','))\n",
    "print(\"a-b-c-d\".split('-'))\n",
    "poem = ''' \n",
    "Jony Johny, yes papa,\n",
    "Eating sugar no papa,\n",
    "Telling lies? no papa,\n",
    "Open your mouth,ha! ha! ha!\n",
    "'''\n",
    "\n",
    "sentence = poem.strip().splitlines()\n",
    "print(sentence)"
   ]
  },
  {
   "cell_type": "code",
   "execution_count": 40,
   "metadata": {},
   "outputs": [
    {
     "name": "stdout",
     "output_type": "stream",
     "text": [
      "192.165.1.1\n"
     ]
    }
   ],
   "source": [
    "addr = ['192','165','1','1']  # list of str\n",
    "ip_addr = \".\".join(addr)\n",
    "print(ip_addr)"
   ]
  }
 ],
 "metadata": {
  "kernelspec": {
   "display_name": "Python 3",
   "language": "python",
   "name": "python3"
  },
  "language_info": {
   "codemirror_mode": {
    "name": "ipython",
    "version": 3
   },
   "file_extension": ".py",
   "mimetype": "text/x-python",
   "name": "python",
   "nbconvert_exporter": "python",
   "pygments_lexer": "ipython3",
   "version": "3.12.2"
  }
 },
 "nbformat": 4,
 "nbformat_minor": 2
}
