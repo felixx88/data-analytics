{
 "cells": [
  {
   "cell_type": "code",
   "execution_count": 1,
   "metadata": {},
   "outputs": [
    {
     "name": "stdout",
     "output_type": "stream",
     "text": [
      "Hello How Are You\n"
     ]
    }
   ],
   "source": [
    "# Create a string and print it.\n",
    "str = input(\"Enter a string\")\n",
    "print(str)"
   ]
  },
  {
   "cell_type": "code",
   "execution_count": 4,
   "metadata": {},
   "outputs": [
    {
     "name": "stdout",
     "output_type": "stream",
     "text": [
      "harsh shukla\n",
      "12\n"
     ]
    }
   ],
   "source": [
    "# Take a string input and print it's length.\n",
    "str = input(\"Enter a string\")\n",
    "print(str)\n",
    "print(len(str))"
   ]
  },
  {
   "cell_type": "code",
   "execution_count": 105,
   "metadata": {},
   "outputs": [
    {
     "name": "stdout",
     "output_type": "stream",
     "text": [
      "(4, 0, -1)\n"
     ]
    }
   ],
   "source": [
    "# Print the last word of the string Python is great using slices\n",
    "str = input(\"Enter a string\")\n",
    "length = len(str)\n",
    "x = (length-1,0,-1)\n",
    "print(x)"
   ]
  },
  {
   "cell_type": "code",
   "execution_count": 15,
   "metadata": {},
   "outputs": [
    {
     "name": "stdout",
     "output_type": "stream",
     "text": [
      "i\n",
      "am\n",
      "pursuing\n",
      "bca\n",
      "from\n",
      "srmcm\n",
      "in\n",
      "3rd\n",
      "year\n",
      "\n"
     ]
    }
   ],
   "source": [
    "# Print the each word in different line of string python is everywhere.\n",
    "str = input(\"Enter a string\")\n",
    "print(str.replace(\" \", '\\n') )"
   ]
  },
  {
   "cell_type": "code",
   "execution_count": 16,
   "metadata": {},
   "outputs": [
    {
     "name": "stdout",
     "output_type": "stream",
     "text": [
      "Hello World\n",
      "dlroW olleH\n"
     ]
    }
   ],
   "source": [
    "# Print the string Hello World! in reverse.\n",
    "str = input(\"Enter a string \")\n",
    "rev = str[::-1]\n",
    "print(str)\n",
    "print(rev)"
   ]
  },
  {
   "cell_type": "code",
   "execution_count": 17,
   "metadata": {},
   "outputs": [
    {
     "name": "stdout",
     "output_type": "stream",
     "text": [
      "HOW ARE YOU?\n"
     ]
    }
   ],
   "source": [
    "# Convert the string How are you? in uppercase.\n",
    "str =\"How are you?\"\n",
    "print(str.upper())"
   ]
  },
  {
   "cell_type": "code",
   "execution_count": 18,
   "metadata": {},
   "outputs": [
    {
     "name": "stdout",
     "output_type": "stream",
     "text": [
      "how is it going?\n"
     ]
    }
   ],
   "source": [
    "# Convert the string How Is It Going? in lowercase.\n",
    "str =\"How Is It Going?\"\n",
    "print(str.lower())"
   ]
  },
  {
   "cell_type": "code",
   "execution_count": 22,
   "metadata": {},
   "outputs": [
    {
     "name": "stdout",
     "output_type": "stream",
     "text": [
      "Python is easy to learn\n"
     ]
    }
   ],
   "source": [
    "# Join the following list by spaces( ) and print the result.\n",
    "\n",
    "words = ['Python', 'is', 'easy', 'to', 'learn']\n",
    "print(*words, sep=' ')"
   ]
  },
  {
   "cell_type": "code",
   "execution_count": 24,
   "metadata": {},
   "outputs": [
    {
     "name": "stdout",
     "output_type": "stream",
     "text": [
      "hello \n",
      "this is a\n",
      "multiline string\n",
      "program\n"
     ]
    }
   ],
   "source": [
    "# Print a multiline string using a single print.\n",
    "\n",
    "str = '''hello \n",
    "this is a\n",
    "multiline string\n",
    "program'''\n",
    "print(str)"
   ]
  },
  {
   "cell_type": "code",
   "execution_count": 27,
   "metadata": {},
   "outputs": [
    {
     "name": "stdout",
     "output_type": "stream",
     "text": [
      "hello i am very happy \n",
      "\n",
      "\n"
     ]
    }
   ],
   "source": [
    "# Print this string to move to newline '\\n' is used. (results should look exactly like the provided string).\n",
    "str = input(\"Enter a string \")\n",
    "print(str)\n",
    "print('\\n')"
   ]
  },
  {
   "cell_type": "code",
   "execution_count": 31,
   "metadata": {},
   "outputs": [
    {
     "name": "stdout",
     "output_type": "stream",
     "text": [
      "The variable is= 2000000\n"
     ]
    }
   ],
   "source": [
    "# Print a variable with some text using a single print function, output should look like following.\n",
    "num = int(input('enter a number'))\n",
    "print(\"The variable is =\" ,+ num)"
   ]
  },
  {
   "cell_type": "code",
   "execution_count": 33,
   "metadata": {},
   "outputs": [
    {
     "name": "stdout",
     "output_type": "stream",
     "text": [
      "python is great.\n"
     ]
    }
   ],
   "source": [
    "# concatenate the following strings and print the result\n",
    "s1 = 'python '\n",
    "s2 = 'is '\n",
    "s3 = 'great.'\n",
    "s4 = s1+ s2+ s3\n",
    "print(s4)"
   ]
  },
  {
   "cell_type": "code",
   "execution_count": 34,
   "metadata": {},
   "outputs": [
    {
     "name": "stdout",
     "output_type": "stream",
     "text": [
      "####################\n"
     ]
    }
   ],
   "source": [
    "# Print # 20 times without using a loop.\n",
    "print(\"#\"*20)"
   ]
  },
  {
   "cell_type": "code",
   "execution_count": 39,
   "metadata": {},
   "outputs": [
    {
     "name": "stdout",
     "output_type": "stream",
     "text": [
      "1 .\n",
      "2 .\n",
      "3 .\n",
      "4 .\n",
      "5 .\n",
      "6 .\n",
      "7 .\n",
      "8 .\n",
      "9 .\n"
     ]
    }
   ],
   "source": [
    "# Print numbers from 1 to 9, each on a seperate line, followed by a dot, output should look like the following.\n",
    "\n",
    "for i in range(1,10):\n",
    "    print(i,\".\")"
   ]
  },
  {
   "cell_type": "code",
   "execution_count": 43,
   "metadata": {},
   "outputs": [
    {
     "name": "stdout",
     "output_type": "stream",
     "text": [
      "happy\n",
      "independency\n",
      "day\n",
      "\n"
     ]
    }
   ],
   "source": [
    "# Ask user to input a sentence and print each word on a different line.\n",
    "str = input(\"enter a string \")\n",
    "print(str.replace(\" \", \"\\n\"))"
   ]
  },
  {
   "cell_type": "code",
   "execution_count": 48,
   "metadata": {},
   "outputs": [
    {
     "name": "stdout",
     "output_type": "stream",
     "text": [
      "True\n"
     ]
    }
   ],
   "source": [
    "# Ask user to input a string and check if the string ends with '?'\n",
    "\n",
    "str = input(\"enter a string \")\n",
    "print(str.endswith('?'))"
   ]
  },
  {
   "cell_type": "code",
   "execution_count": 54,
   "metadata": {},
   "outputs": [
    {
     "name": "stdout",
     "output_type": "stream",
     "text": [
      "18\n"
     ]
    }
   ],
   "source": [
    "# Ask user to input a string and print how many times e appeared in the string.\n",
    "count = 0\n",
    "str = input(\"Enter a string \")\n",
    "dict = {'e'}\n",
    "for char in str:\n",
    "    if char in dict:\n",
    "        count+=1\n",
    "print(count)    "
   ]
  },
  {
   "cell_type": "code",
   "execution_count": 77,
   "metadata": {},
   "outputs": [
    {
     "name": "stdout",
     "output_type": "stream",
     "text": [
      "Is not a number\n"
     ]
    }
   ],
   "source": [
    "# Check if the user input is a number.\n",
    "input_num = input(\"Enter a number\")\n",
    "if type(input_num)== int:\n",
    "    print(input_num,\"is a number\")\n",
    "else:\n",
    "    print(\"Is not a number\")    "
   ]
  },
  {
   "cell_type": "code",
   "execution_count": 79,
   "metadata": {},
   "outputs": [
    {
     "name": "stdout",
     "output_type": "stream",
     "text": [
      "this is not a good string\n"
     ]
    }
   ],
   "source": [
    "# Remove the extra spaces in beginning and in the end of the following string.\n",
    "text = '   this is not a good string           '\n",
    "print(text.strip())"
   ]
  },
  {
   "cell_type": "code",
   "execution_count": 93,
   "metadata": {},
   "outputs": [
    {
     "name": "stdout",
     "output_type": "stream",
     "text": [
      "Uppercase character not is found\n"
     ]
    }
   ],
   "source": [
    "# Ask user to input string, print found if any of the character is upper case.\n",
    "str = input(\"Enter a string\")\n",
    "if str.isupper() == True:\n",
    "    print(\"Uppercase character is found\")\n",
    "else:\n",
    "    print(\"Uppercase character not is found\")"
   ]
  },
  {
   "cell_type": "code",
   "execution_count": 94,
   "metadata": {},
   "outputs": [
    {
     "name": "stdout",
     "output_type": "stream",
     "text": [
      "['Joe,', 'David,', 'Mark,', 'Tom,', 'Chris,', 'Robert']\n"
     ]
    }
   ],
   "source": [
    "# Extract names from the following string and store them in a list.\n",
    "names = 'Joe, David, Mark, Tom, Chris, Robert'\n",
    "print(names.split())"
   ]
  },
  {
   "cell_type": "code",
   "execution_count": 98,
   "metadata": {},
   "outputs": [
    {
     "name": "stdout",
     "output_type": "stream",
     "text": [
      "harsh shukla fyi hello Yes! it is present in the string\n"
     ]
    }
   ],
   "source": [
    "# ask user to enter a string and check if the string contains fyi\n",
    "str = input(\"Enter a string \")\n",
    "if \"fyi\" in str:\n",
    "    print(str, \"Yes! it is present in the string\")\n",
    "else:\n",
    "    print(\"It is not present in the string\")    "
   ]
  },
  {
   "cell_type": "code",
   "execution_count": 100,
   "metadata": {},
   "outputs": [
    {
     "name": "stdout",
     "output_type": "stream",
     "text": [
      "p34yt68hon404\n"
     ]
    }
   ],
   "source": [
    "# Remove all the special characters and numbers from the following string\n",
    "text = '%p34@y!*-*!t68h#&on404'\n",
    "test_str = ''.join(letter for letter in text if letter.isalnum())\n",
    "print(test_str)\n"
   ]
  },
  {
   "cell_type": "code",
   "execution_count": 102,
   "metadata": {},
   "outputs": [
    {
     "data": {
      "text/plain": [
       "4.636363636363637"
      ]
     },
     "execution_count": 102,
     "metadata": {},
     "output_type": "execute_result"
    }
   ],
   "source": [
    "# calculate the average word length of the following paragraph.\n",
    "\n",
    "sentence = 'this is a paragraph which is written just for the purpose of providing content to let the average word length be calculated'\n",
    "words = sentence.split()\n",
    "average = sum(len(word) for word in words) / len(words)\n",
    "average"
   ]
  },
  {
   "cell_type": "code",
   "execution_count": null,
   "metadata": {},
   "outputs": [],
   "source": [
    "#  3,24,25,17"
   ]
  }
 ],
 "metadata": {
  "kernelspec": {
   "display_name": "Python 3",
   "language": "python",
   "name": "python3"
  },
  "language_info": {
   "codemirror_mode": {
    "name": "ipython",
    "version": 3
   },
   "file_extension": ".py",
   "mimetype": "text/x-python",
   "name": "python",
   "nbconvert_exporter": "python",
   "pygments_lexer": "ipython3",
   "version": "3.12.2"
  }
 },
 "nbformat": 4,
 "nbformat_minor": 2
}
