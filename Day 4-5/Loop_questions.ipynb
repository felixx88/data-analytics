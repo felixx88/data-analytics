{
 "cells": [
  {
   "cell_type": "code",
   "execution_count": 1,
   "metadata": {},
   "outputs": [
    {
     "name": "stdout",
     "output_type": "stream",
     "text": [
      "1\n",
      "2\n",
      "3\n",
      "4\n",
      "5\n",
      "6\n",
      "7\n",
      "8\n",
      "9\n",
      "10\n"
     ]
    }
   ],
   "source": [
    "#Write a program to print numbers from 1 to 10 using a for loop.\n",
    "n= [1,2,3,4,5,6,7,8,9,10]\n",
    "for i in n:\n",
    "    print(i)"
   ]
  },
  {
   "cell_type": "code",
   "execution_count": 3,
   "metadata": {},
   "outputs": [
    {
     "name": "stdout",
     "output_type": "stream",
     "text": [
      "1*5 = 5\n",
      "2*5 = 10\n",
      "3*5 = 15\n",
      "4*5 = 20\n",
      "5*5 = 25\n",
      "6*5 = 30\n",
      "7*5 = 35\n",
      "8*5 = 40\n",
      "9*5 = 45\n",
      "10*5 = 50\n"
     ]
    }
   ],
   "source": [
    "# Write a program to print the multiplication table of a given number using a while loop.\n",
    "\n",
    "multi= int(input(\"Enter value of num\"))\n",
    "start= 1\n",
    "while start<=10:\n",
    "    result = start * multi\n",
    "    print(f\"{start}*{multi} = {result}\")\n",
    "    start +=1\n"
   ]
  },
  {
   "cell_type": "code",
   "execution_count": 5,
   "metadata": {},
   "outputs": [
    {
     "name": "stdout",
     "output_type": "stream",
     "text": [
      "2500\n"
     ]
    }
   ],
   "source": [
    "# Write a program to find the sum of all even numbers between 1 and 100 using a for loop.total=0\n",
    "total= 0\n",
    "for i in range(1,101,2):\n",
    "    total= total+i  \n",
    "print(total)\n"
   ]
  },
  {
   "cell_type": "code",
   "execution_count": 9,
   "metadata": {},
   "outputs": [
    {
     "name": "stdout",
     "output_type": "stream",
     "text": [
      "4  is not a prime number.\n"
     ]
    }
   ],
   "source": [
    "\n",
    "# Write a program to check if a given number is prime or not using a while loop.\n",
    "flag = 0\n",
    "n = int(input('\\nEnter whole number to check : '))\n",
    "i = 2\n",
    "while i <= (n/2):\n",
    "    if (n%i) == 0:\n",
    "        flag = 1\n",
    "        break\n",
    "    else:\n",
    "        i += 1\n",
    "    \n",
    "if n == 1:\n",
    "    print('1 is neither prime nor composite')\n",
    "elif flag == 0:\n",
    "    print(n,' is a prime number.')\n",
    "elif flag == 1:\n",
    "    print(n,' is not a prime number.')"
   ]
  }
 ],
 "metadata": {
  "kernelspec": {
   "display_name": "Python 3",
   "language": "python",
   "name": "python3"
  },
  "language_info": {
   "codemirror_mode": {
    "name": "ipython",
    "version": 3
   },
   "file_extension": ".py",
   "mimetype": "text/x-python",
   "name": "python",
   "nbconvert_exporter": "python",
   "pygments_lexer": "ipython3",
   "version": "3.12.2"
  }
 },
 "nbformat": 4,
 "nbformat_minor": 2
}
