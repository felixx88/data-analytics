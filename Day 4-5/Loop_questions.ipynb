{
 "cells": [
  {
   "cell_type": "code",
   "execution_count": 1,
   "metadata": {},
   "outputs": [
    {
     "name": "stdout",
     "output_type": "stream",
     "text": [
      "1\n",
      "2\n",
      "3\n",
      "4\n",
      "5\n",
      "6\n",
      "7\n",
      "8\n",
      "9\n",
      "10\n"
     ]
    }
   ],
   "source": [
    "#Write a program to print numbers from 1 to 10 using a for loop.\n",
    "n= [1,2,3,4,5,6,7,8,9,10]\n",
    "for i in n:\n",
    "    print(i)"
   ]
  },
  {
   "cell_type": "code",
   "execution_count": 3,
   "metadata": {},
   "outputs": [
    {
     "name": "stdout",
     "output_type": "stream",
     "text": [
      "1*5 = 5\n",
      "2*5 = 10\n",
      "3*5 = 15\n",
      "4*5 = 20\n",
      "5*5 = 25\n",
      "6*5 = 30\n",
      "7*5 = 35\n",
      "8*5 = 40\n",
      "9*5 = 45\n",
      "10*5 = 50\n"
     ]
    }
   ],
   "source": [
    "# Write a program to print the multiplication table of a given number using a while loop.\n",
    "\n",
    "multi= int(input(\"Enter value of num\"))\n",
    "start= 1\n",
    "while start<=10:\n",
    "    result = start * multi\n",
    "    print(f\"{start}*{multi} = {result}\")\n",
    "    start +=1\n"
   ]
  },
  {
   "cell_type": "code",
   "execution_count": 5,
   "metadata": {},
   "outputs": [
    {
     "name": "stdout",
     "output_type": "stream",
     "text": [
      "2500\n"
     ]
    }
   ],
   "source": [
    "# Write a program to find the sum of all even numbers between 1 and 100 using a for loop.total=0\n",
    "total= 0\n",
    "for i in range(1,101,2):\n",
    "    total= total+i  \n",
    "print(total)\n"
   ]
  },
  {
   "cell_type": "code",
   "execution_count": 9,
   "metadata": {},
   "outputs": [
    {
     "name": "stdout",
     "output_type": "stream",
     "text": [
      "4  is not a prime number.\n"
     ]
    }
   ],
   "source": [
    "\n",
    "# Write a program to check if a given number is prime or not using a while loop.\n",
    "flag = 0\n",
    "n = int(input('\\nEnter whole number to check : '))\n",
    "i = 2\n",
    "while i <= (n/2):\n",
    "    if (n%i) == 0:\n",
    "        flag = 1\n",
    "        break\n",
    "    else:\n",
    "        i += 1\n",
    "    \n",
    "if n == 1:\n",
    "    print('1 is neither prime nor composite')\n",
    "elif flag == 0:\n",
    "    print(n,' is a prime number.')\n",
    "elif flag == 1:\n",
    "    print(n,' is not a prime number.')"
   ]
  },
  {
   "cell_type": "code",
   "execution_count": 31,
   "metadata": {},
   "outputs": [
    {
     "name": "stdout",
     "output_type": "stream",
     "text": [
      "1\n",
      "2\n",
      "6\n",
      "24\n",
      "120\n"
     ]
    }
   ],
   "source": [
    "# Write a program to calculate the factorial of a number using a for loop.\n",
    "f= 1\n",
    "n = int(input('Enter number to find factorial : ')) \n",
    "for i in range (1,n+1):\n",
    "    f=f*i\n",
    "    print(f)"
   ]
  },
  {
   "cell_type": "code",
   "execution_count": 37,
   "metadata": {},
   "outputs": [
    {
     "name": "stdout",
     "output_type": "stream",
     "text": [
      "0 1 1 2 3 5 8 13 21 "
     ]
    }
   ],
   "source": [
    "# Write a program to print the Fibonacci series up to a given limit using a for loop.\n",
    "n=int(input(\"Enter the number of terms: \"))\n",
    "a=0 \n",
    "b=1 \n",
    "print(a,b,end=\" \")\n",
    "for x in range(2,n):\n",
    "        c=a+b\n",
    "        print(c,end=\" \")\n",
    "        a=b\n",
    "        b=c"
   ]
  },
  {
   "cell_type": "code",
   "execution_count": 48,
   "metadata": {},
   "outputs": [
    {
     "name": "stdout",
     "output_type": "stream",
     "text": [
      "1001\n"
     ]
    }
   ],
   "source": [
    "# Write a program to find the largest element in an array using a for loop.\n",
    "n = [12,23,54,65,1001,78,65,22,992]\n",
    "large = n[0]\n",
    "for i in range(len(n)):\n",
    "    if n[i]>large:\n",
    "        large = n[i]\n",
    "print(large)\n",
    "    "
   ]
  },
  {
   "cell_type": "code",
   "execution_count": 52,
   "metadata": {},
   "outputs": [
    {
     "name": "stdout",
     "output_type": "stream",
     "text": [
      "Original =  Hello My Name Is Don\n",
      "Reversed = noD sI emaN yM olleH\n"
     ]
    }
   ],
   "source": [
    "# Write a program to reverse a given string using a while loop\n",
    "name = input('Enter the string')\n",
    "rev = name[::-1]\n",
    "\n",
    "print(\"Original = \", name)\n",
    "print(\"Reversed =\", rev)"
   ]
  },
  {
   "cell_type": "code",
   "execution_count": 134,
   "metadata": {},
   "outputs": [
    {
     "name": "stdout",
     "output_type": "stream",
     "text": [
      "65\n",
      "66\n",
      "67\n",
      "68\n",
      "69\n",
      "70\n",
      "71\n",
      "72\n",
      "73\n",
      "74\n",
      "75\n",
      "76\n",
      "77\n",
      "78\n",
      "79\n",
      "80\n",
      "81\n",
      "82\n",
      "83\n",
      "84\n",
      "85\n",
      "86\n",
      "87\n",
      "88\n",
      "89\n",
      "90\n"
     ]
    }
   ],
   "source": [
    "# Write a program to print the ASCII values of all uppercase letters using a for loop.\n",
    "from string import ascii_uppercase\n",
    "for i in ascii_uppercase:\n",
    "    print(ord(i))\n"
   ]
  },
  {
   "cell_type": "code",
   "execution_count": 63,
   "metadata": {},
   "outputs": [
    {
     "name": "stdout",
     "output_type": "stream",
     "text": [
      "string is palindrome\n"
     ]
    }
   ],
   "source": [
    "# Write a program to check if a given string is a palindrome using a for loop.\n",
    "\n",
    "name = input('Enter the string')\n",
    "rev = name[::-1]\n",
    "\n",
    "if name==rev:\n",
    "    print(\"string is palindrome\")\n",
    "else:\n",
    "    print(\"string is not palindrome\")"
   ]
  },
  {
   "cell_type": "code",
   "execution_count": 76,
   "metadata": {},
   "outputs": [
    {
     "name": "stdout",
     "output_type": "stream",
     "text": [
      "1885\n",
      "9\n",
      "209.44444444444446\n"
     ]
    }
   ],
   "source": [
    "# Write a program to calculate the average of a list of numbers using a for loop\n",
    "n=[22,44,66,88,111,222,333,444,555]\n",
    "s=0\n",
    "c=0\n",
    "for i in range(len(n)):\n",
    "    s=s+n[i]\n",
    "    c =c+1\n",
    "    avg=s/c\n",
    "print(s)\n",
    "print(c)\n",
    "print(avg)"
   ]
  },
  {
   "cell_type": "code",
   "execution_count": 79,
   "metadata": {},
   "outputs": [
    {
     "name": "stdout",
     "output_type": "stream",
     "text": [
      "12\n"
     ]
    }
   ],
   "source": [
    "# Write a program to find the smallest element in an array using a while loop.\n",
    "n = [12,23,54,65,1001,78,65,22,992]\n",
    "small = n[0]\n",
    "for i in range(len(n)):\n",
    "    while n[i]<small:\n",
    "        small = n[i]\n",
    "print(small)"
   ]
  },
  {
   "cell_type": "code",
   "execution_count": 93,
   "metadata": {},
   "outputs": [
    {
     "name": "stdout",
     "output_type": "stream",
     "text": [
      "999999\n",
      "54\n"
     ]
    }
   ],
   "source": [
    "# Write a program to calculate the sum of digits of a number using a for loop\n",
    "num = (input(\"Enter a number \"))\n",
    "sum=0\n",
    "for i in num:\n",
    "    sum= sum+int(i)\n",
    "print(num)\n",
    "print(sum)"
   ]
  },
  {
   "cell_type": "code",
   "execution_count": 105,
   "metadata": {},
   "outputs": [
    {
     "name": "stdout",
     "output_type": "stream",
     "text": [
      "Year is leap year\n"
     ]
    }
   ],
   "source": [
    "# Write a program to check if a given list of years has a leap year using a while loop.\n",
    "num = int(input(\"Enter the year\"))\n",
    "if(num %4 == 0 and num % 100 !=0 or num % 400 ==0):\n",
    "    print(\"Year is leap year\")\n",
    "else:\n",
    "    print(\"Year is not leap year\")\n"
   ]
  },
  {
   "cell_type": "code",
   "execution_count": 107,
   "metadata": {},
   "outputs": [
    {
     "name": "stdout",
     "output_type": "stream",
     "text": [
      "1*12 = 12\n",
      "2*12 = 24\n",
      "3*12 = 36\n",
      "4*12 = 48\n",
      "5*12 = 60\n"
     ]
    }
   ],
   "source": [
    "# Write a program to print the multiplication table of numbers from 1 to 5 using a for loop.\n",
    "\n",
    "num = int(input(\"Enter a number\"))\n",
    "for i in range(1,6):\n",
    "    result = i * num\n",
    "    print(f\"{i}*{num} = {result}\")\n",
    "    i +=1"
   ]
  },
  {
   "cell_type": "code",
   "execution_count": 116,
   "metadata": {},
   "outputs": [
    {
     "name": "stdout",
     "output_type": "stream",
     "text": [
      "999\n",
      "1\n"
     ]
    }
   ],
   "source": [
    "# Write a program to find the largest and smallest elements in an array using a for loop.\n",
    "\n",
    "num = [1,22,33,45,67,86,999,23,43,54,]\n",
    "large = num[0]\n",
    "small = num[0]\n",
    "for i in range(len(num)):\n",
    "    if num[i]> large:\n",
    "        large = num[i]\n",
    "    elif num[i]< small:    \n",
    "        small = num[i]\n",
    "\n",
    "print(large)\n",
    "print(small)\n",
    "    \n",
    "    \n"
   ]
  },
  {
   "cell_type": "code",
   "execution_count": 136,
   "metadata": {},
   "outputs": [
    {
     "name": "stdout",
     "output_type": "stream",
     "text": [
      "3\n"
     ]
    }
   ],
   "source": [
    "# Write a program to count the number of vowels in a given string using a for loop \n",
    "count = 0\n",
    "str = (input(\"Enter a string \"))\n",
    "for char in str:\n",
    "    if 'a' == char or 'e' == char:\n",
    "        count = count + 1\n",
    "print(count) \n"
   ]
  },
  {
   "cell_type": "code",
   "execution_count": 129,
   "metadata": {},
   "outputs": [
    {
     "name": "stdout",
     "output_type": "stream",
     "text": [
      "HELLO HOPE YOR ARE DOING WELL 1\n",
      "1 LLEW GNIOD ERA ROY EPOH OLLEH\n"
     ]
    }
   ],
   "source": [
    "# Write a program to reverse the order of words in a sentence using a while loop.\n",
    "str = input(\"Enter a string\") \n",
    "rev = str[::-1]\n",
    "print(str)\n",
    "print(rev)"
   ]
  },
  {
   "cell_type": "code",
   "execution_count": null,
   "metadata": {},
   "outputs": [],
   "source": [
    "# fibonacci,ascii,no  of vowels"
   ]
  }
 ],
 "metadata": {
  "kernelspec": {
   "display_name": "Python 3",
   "language": "python",
   "name": "python3"
  },
  "language_info": {
   "codemirror_mode": {
    "name": "ipython",
    "version": 3
   },
   "file_extension": ".py",
   "mimetype": "text/x-python",
   "name": "python",
   "nbconvert_exporter": "python",
   "pygments_lexer": "ipython3",
   "version": "3.12.2"
  }
 },
 "nbformat": 4,
 "nbformat_minor": 2
}
