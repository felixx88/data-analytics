{
 "cells": [
  {
   "cell_type": "code",
   "execution_count": 2,
   "metadata": {},
   "outputs": [
    {
     "name": "stdout",
     "output_type": "stream",
     "text": [
      "10\n",
      "8\n",
      "6\n",
      "4\n",
      "2\n"
     ]
    }
   ],
   "source": [
    "                               # While Loop \n",
    "i =10\n",
    "while i > 0: \n",
    "    print(i)\n",
    "    i -= 2"
   ]
  },
  {
   "cell_type": "code",
   "execution_count": 5,
   "metadata": {},
   "outputs": [
    {
     "name": "stdout",
     "output_type": "stream",
     "text": [
      "1234 5\n",
      "123 9\n",
      "12 12\n",
      "1 14\n",
      "0 15\n",
      " ans:15\n"
     ]
    }
   ],
   "source": [
    "#sum of all digits \n",
    "num = 12345\n",
    "result = 0\n",
    "while num > 0:\n",
    "    result += num % 10\n",
    "    num //=10\n",
    "    print(num , result)\n",
    "print(f' ans:{result}')    "
   ]
  },
  {
   "cell_type": "code",
   "execution_count": 8,
   "metadata": {},
   "outputs": [
    {
     "name": "stdout",
     "output_type": "stream",
     "text": [
      "Total => 0\n"
     ]
    }
   ],
   "source": [
    "# sum of n numbers\n",
    "total = 0\n",
    "while True:\n",
    "    num = input(\"Enter value \")\n",
    "    if  not num:\n",
    "        break    \n",
    "    total += int(num)\n",
    "print(f'Total => {total}')"
   ]
  },
  {
   "cell_type": "code",
   "execution_count": null,
   "metadata": {},
   "outputs": [],
   "source": [
    "total = 0\n",
    "while True:\n",
    "    num = input(\"Enter value \")\n",
    "    if num:\n",
    "        total += int(num)\n",
    "    else:\n",
    "        break\n",
    "print(f'Total => {total}')"
   ]
  },
  {
   "cell_type": "markdown",
   "metadata": {},
   "source": [
    "# for-else and while-else"
   ]
  },
  {
   "cell_type": "code",
   "execution_count": 9,
   "metadata": {},
   "outputs": [
    {
     "name": "stdout",
     "output_type": "stream",
     "text": [
      "0\n",
      "1\n",
      "2\n",
      "3\n",
      "4\n",
      "loop completed\n"
     ]
    }
   ],
   "source": [
    "for i in range(5):\n",
    "    print(i)\n",
    "else:\n",
    "    print(\"loop completed\")"
   ]
  },
  {
   "cell_type": "code",
   "execution_count": 10,
   "metadata": {},
   "outputs": [
    {
     "name": "stdout",
     "output_type": "stream",
     "text": [
      "0\n",
      "1\n",
      "2\n",
      "3\n"
     ]
    }
   ],
   "source": [
    "for i in range(5):\n",
    "    print(i)\n",
    "    if i == 3:\n",
    "        break\n",
    "else:\n",
    "    print(\"loop completed\")"
   ]
  },
  {
   "cell_type": "code",
   "execution_count": 17,
   "metadata": {},
   "outputs": [
    {
     "name": "stdout",
     "output_type": "stream",
     "text": [
      "7/2 = 1\n",
      "7/3 = 1\n",
      "7/4 = 3\n",
      "7/5 = 2\n",
      "7/6 = 1\n",
      "Prime7\n"
     ]
    }
   ],
   "source": [
    "    # Prime Number\n",
    "num = 7\n",
    "for i in range(2, num):\n",
    "    print(f'{num}/{i} = {num%i}')\n",
    "    if num%i == 0:\n",
    "        print(f\"Not Prime {num}\")\n",
    "        break\n",
    "else:\n",
    "    print(f\"Prime{num}\")"
   ]
  },
  {
   "cell_type": "code",
   "execution_count": 20,
   "metadata": {},
   "outputs": [
    {
     "name": "stdout",
     "output_type": "stream",
     "text": [
      "144\n",
      "91125\n",
      "20151121\n",
      "2887174368\n",
      "148035889\n"
     ]
    }
   ],
   "source": [
    "x = [12,45,67,78,23]\n",
    "y = [2,3,4,5,6,2]\n",
    "\n",
    "for i,j in zip(x,y):\n",
    "    print(i**j)"
   ]
  },
  {
   "cell_type": "code",
   "execution_count": null,
   "metadata": {},
   "outputs": [],
   "source": []
  }
 ],
 "metadata": {
  "kernelspec": {
   "display_name": "Python 3",
   "language": "python",
   "name": "python3"
  },
  "language_info": {
   "codemirror_mode": {
    "name": "ipython",
    "version": 3
   },
   "file_extension": ".py",
   "mimetype": "text/x-python",
   "name": "python",
   "nbconvert_exporter": "python",
   "pygments_lexer": "ipython3",
   "version": "3.12.2"
  }
 },
 "nbformat": 4,
 "nbformat_minor": 2
}
