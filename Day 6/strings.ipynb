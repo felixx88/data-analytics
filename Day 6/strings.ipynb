{
 "cells": [
  {
   "cell_type": "markdown",
   "metadata": {},
   "source": [
    "# String \n",
    "- creating\n",
    "- indexing\n",
    "- slicing\n",
    "- methods"
   ]
  },
  {
   "cell_type": "code",
   "execution_count": 1,
   "metadata": {},
   "outputs": [],
   "source": [
    "            # Creation\n",
    "a = '' # empty string \n",
    "name = 'Python' #single quoted\n",
    "subject = \"Computer\"  # double quoted\n",
    "message = '''this is an example\n",
    " of multiline string in python,\n",
    " triple quotes allow multi line concept'''"
   ]
  },
  {
   "cell_type": "code",
   "execution_count": 2,
   "metadata": {},
   "outputs": [
    {
     "name": "stdout",
     "output_type": "stream",
     "text": [
      "~0~|~0~|~0~|~0~|~0~|~0~|~0~|~0~|~0~|~0~|\n"
     ]
    }
   ],
   "source": [
    "# strine duplication \n",
    "decor = '~0~|' * 10\n",
    "print(decor)"
   ]
  },
  {
   "cell_type": "code",
   "execution_count": 4,
   "metadata": {},
   "outputs": [
    {
     "name": "stdout",
     "output_type": "stream",
     "text": [
      "123565\n",
      "[1, 2, 3, 4, 5]\n",
      "True\n",
      "False\n",
      "12.333\n"
     ]
    }
   ],
   "source": [
    "# casting \n",
    "a = str(123565)\n",
    "b = ([1,2,3,4,5])\n",
    "c = str(True)\n",
    "d = str(False)\n",
    "e = str(12.333)\n",
    "print(a)\n",
    "print(b)\n",
    "print(c)\n",
    "print(d)\n",
    "print(e)"
   ]
  },
  {
   "cell_type": "code",
   "execution_count": 6,
   "metadata": {},
   "outputs": [
    {
     "name": "stdout",
     "output_type": "stream",
     "text": [
      "S\n",
      "Y\n",
      "N\n",
      "C\n",
      "R\n",
      "O\n",
      "D\n",
      "E\n",
      "Z\n",
      "I\n",
      "N\n",
      "11\n"
     ]
    }
   ],
   "source": [
    "# string is indexed and immutable \n",
    "word = \"SYNCRONIZED\"\n",
    "print(word[0])\n",
    "print(word[1])\n",
    "print(word[2])\n",
    "print(word[3])\n",
    "print(word[4])\n",
    "print(word[5])\n",
    "print(word[-1])\n",
    "print(word[-2])\n",
    "print(word[-3])\n",
    "print(word[-4])\n",
    "print(word[-5])\n",
    "print(len(word))"
   ]
  },
  {
   "cell_type": "markdown",
   "metadata": {},
   "source": [
    "# Slicing \n",
    " syntax\n",
    " ''' python \n",
    "\n",
    " var[start: stop] #start from \n",
    "\n",
    " var [start: stpo: step]\n",
    "\n",
    " var[: stop]  # statr from begging \n",
    "\n",
    " var[start :] # start from an index stop at  the end "
   ]
  },
  {
   "cell_type": "code",
   "execution_count": 8,
   "metadata": {},
   "outputs": [
    {
     "name": "stdout",
     "output_type": "stream",
     "text": [
      "SYNC\n",
      "SYNC\n",
      "ONI\n",
      "RONIZED\n",
      "YCOIE\n",
      "SNRNZ\n",
      "SNRNZD\n",
      "DEZINORCNYS\n"
     ]
    }
   ],
   "source": [
    "# Slicing \n",
    "print(word[0:4])\n",
    "print(word[:4])\n",
    "print(word[5:8])\n",
    "print(word[4:])\n",
    "print(word[1:10:2])\n",
    "print(word[:10:2])\n",
    "print(word[::2])  # all even indexs\n",
    "print(word[::-1]) # reversed "
   ]
  },
  {
   "cell_type": "code",
   "execution_count": 11,
   "metadata": {},
   "outputs": [
    {
     "name": "stdout",
     "output_type": "stream",
     "text": [
      "['Santosh', 'Kumar', 'Shukla']\n"
     ]
    }
   ],
   "source": [
    "name = \"Santosh Kumar Shukla \"\n",
    "a = name.split()\n",
    "print(a)"
   ]
  },
  {
   "cell_type": "code",
   "execution_count": 18,
   "metadata": {},
   "outputs": [
    {
     "name": "stdout",
     "output_type": "stream",
     "text": [
      "santosh\n",
      "kumar\n",
      "shukla\n"
     ]
    }
   ],
   "source": [
    "name = \"santosh kumar shukla\"\n",
    "print(name[0:7])\n",
    "print(name[8:-7])\n",
    "print(name[-6:])"
   ]
  },
  {
   "cell_type": "code",
   "execution_count": null,
   "metadata": {},
   "outputs": [],
   "source": []
  }
 ],
 "metadata": {
  "kernelspec": {
   "display_name": "Python 3",
   "language": "python",
   "name": "python3"
  },
  "language_info": {
   "codemirror_mode": {
    "name": "ipython",
    "version": 3
   },
   "file_extension": ".py",
   "mimetype": "text/x-python",
   "name": "python",
   "nbconvert_exporter": "python",
   "pygments_lexer": "ipython3",
   "version": "3.12.2"
  }
 },
 "nbformat": 4,
 "nbformat_minor": 2
}
