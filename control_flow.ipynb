{
 "cells": [
  {
   "cell_type": "markdown",
   "metadata": {},
   "source": [
    "# Control Flow \n",
    "### Condition \n",
    "- if\n",
    "- if else\n",
    "- if elif ladder\n",
    "- match case \n",
    "- nested if \n",
    "### Loops\n",
    "- for loop \n",
    "- while loop \n",
    "\n",
    "# Syntax:\n",
    "\n",
    "if expression:\n",
    "  - statement 1\n",
    "  - statement 2\n",
    "  - statement 3\n",
    "  - statement 4\n",
    "\n",
    "\n",
    "   statement n\n",
    "\n",
    "\n",
    "\n",
    "if expression:\n",
    "    ...\n",
    "else:\n",
    "    ..."
   ]
  },
  {
   "cell_type": "code",
   "execution_count": 3,
   "metadata": {},
   "outputs": [
    {
     "name": "stdout",
     "output_type": "stream",
     "text": [
      "🌞 Bad Weather\n",
      "Name exists\n"
     ]
    }
   ],
   "source": [
    "x= 20\n",
    "if x >=5:\n",
    "    print(\"🌞 Bad Weather\")\n",
    "\n",
    "y= 5\n",
    "if x > 10 and y < 2:\n",
    "    print (\"🌧️ Good Weather\")\n",
    "\n",
    "name = 'Harsh'\n",
    "if name:\n",
    "    print(\"Name exists\")        \n"
   ]
  },
  {
   "cell_type": "code",
   "execution_count": 4,
   "metadata": {},
   "outputs": [
    {
     "name": "stdout",
     "output_type": "stream",
     "text": [
      "List is not empty\n"
     ]
    }
   ],
   "source": [
    "m='bakassbccke'\n",
    "if len(m):\n",
    "    print (\"List is not empty\")"
   ]
  },
  {
   "cell_type": "code",
   "execution_count": null,
   "metadata": {},
   "outputs": [],
   "source": []
  }
 ],
 "metadata": {
  "language_info": {
   "name": "python"
  }
 },
 "nbformat": 4,
 "nbformat_minor": 2
}
