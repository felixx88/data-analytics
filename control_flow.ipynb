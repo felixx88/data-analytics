{
 "cells": [
  {
   "cell_type": "markdown",
   "metadata": {},
   "source": [
    "# Control Flow \n",
    "### Condition \n",
    "- if\n",
    "- if else\n",
    "- if elif ladder\n",
    "- match case \n",
    "- nested if \n",
    "### Loops\n",
    "- for loop \n",
    "- while loop \n",
    "\n",
    "# Syntax:\n",
    "\n",
    "if expression:\n",
    "  - statement 1\n",
    "  - statement 2\n",
    "  - statement 3\n",
    "  - statement 4\n",
    "\n",
    "\n",
    "   statement n\n",
    "\n",
    "\n",
    "\n",
    "if expression:\n",
    "    ...\n",
    "else:\n",
    "    ..."
   ]
  },
  {
   "cell_type": "code",
   "execution_count": 3,
   "metadata": {},
   "outputs": [
    {
     "name": "stdout",
     "output_type": "stream",
     "text": [
      "🌞 Bad Weather\n",
      "Name exists\n"
     ]
    }
   ],
   "source": [
    "x= 20\n",
    "if x >=5:\n",
    "    print(\"🌞 Bad Weather\")\n",
    "\n",
    "y= 5\n",
    "if x > 10 and y < 2:\n",
    "    print (\"🌧️ Good Weather\")\n",
    "\n",
    "name = 'Harsh'\n",
    "if name:\n",
    "    print(\"Name exists\")        \n"
   ]
  },
  {
   "cell_type": "code",
   "execution_count": 5,
   "metadata": {},
   "outputs": [
    {
     "name": "stdout",
     "output_type": "stream",
     "text": [
      "List is not empty\n"
     ]
    }
   ],
   "source": [
    "m='bakassbccke'\n",
    "if len(m):\n",
    "    print (\"List is not empty\")\n",
    "else:\n",
    "    print(\"a is empty\")"
   ]
  },
  {
   "cell_type": "code",
   "execution_count": 6,
   "metadata": {},
   "outputs": [
    {
     "name": "stdout",
     "output_type": "stream",
     "text": [
      "C is the greatest\n"
     ]
    }
   ],
   "source": [
    "a=5                             # C ids bigger \n",
    "b=2\n",
    "c=10\n",
    "if a>b and a>c:\n",
    "    print (\"A is the greatest  \")\n",
    "elif b>a and b>c:\n",
    "    print (\"B is the  greatest \")\n",
    "else:\n",
    "    print(\"C is the greatest\")"
   ]
  },
  {
   "cell_type": "code",
   "execution_count": 7,
   "metadata": {},
   "outputs": [
    {
     "name": "stdout",
     "output_type": "stream",
     "text": [
      "B is the  greatest \n"
     ]
    }
   ],
   "source": [
    "a=5                               # B is bogger \n",
    "b=200\n",
    "c=10\n",
    "if a>b and a>c:\n",
    "    print (\"A is the greatest  \")\n",
    "elif b>a and b>c:\n",
    "    print (\"B is the  greatest \")\n",
    "else:\n",
    "    print(\"C is the greatest\")"
   ]
  },
  {
   "cell_type": "code",
   "execution_count": 8,
   "metadata": {},
   "outputs": [
    {
     "name": "stdout",
     "output_type": "stream",
     "text": [
      "A is the greatest  \n"
     ]
    }
   ],
   "source": [
    "a=591                             # A is bigger \n",
    "b=2\n",
    "c=10\n",
    "if a>b and a>c:\n",
    "    print (\"A is the greatest  \")\n",
    "elif b>a and b>c:\n",
    "    print (\"B is the  greatest \")\n",
    "else:\n",
    "    print(\"C is the greatest\")"
   ]
  },
  {
   "cell_type": "code",
   "execution_count": 13,
   "metadata": {},
   "outputs": [
    {
     "name": "stdout",
     "output_type": "stream",
     "text": [
      "Student Marks = 78\n",
      "------------------------------\n",
      "Student Grade = B\n"
     ]
    }
   ],
   "source": [
    "     # Grade Calculation with if elif ladder \n",
    "marks = int(input(\"Enter the marks\"))\n",
    "if marks >=90:\n",
    "    grade =\"A\"\n",
    "elif marks >=75:\n",
    "    grade =\"B\"\n",
    "elif marks >=60:\n",
    "    grade =\"C\"\n",
    "elif marks >=50:\n",
    "    grade =\"D\"\n",
    "else:\n",
    "    grade =\"F\"\n",
    "print (f\"Student Marks = {marks}\")\n",
    "print(\"---\"*10)\n",
    "print (f\"Student Grade = {grade}\")\n",
    "\n",
    "    "
   ]
  },
  {
   "cell_type": "code",
   "execution_count": 20,
   "metadata": {},
   "outputs": [
    {
     "name": "stdout",
     "output_type": "stream",
     "text": [
      "You are corret 💥\n"
     ]
    }
   ],
   "source": [
    "                           # Match Case example\n",
    "ans = input(\"What is India's Capital \").title()     # .title is used for changing the first word case \n",
    "match ans:\n",
    "    case 'Kanpur':\n",
    "        print(\"You are fool 🐮\")\n",
    "    case 'Delhi':\n",
    "        print(\"You are corret 💥\")\n",
    "    case 'Mumbai':\n",
    "        print(\"You are wrong 🐷\")\n",
    "    case 'Nagpur':\n",
    "        print(\"You are not of India 🐸\")\n",
    "    case _:\n",
    "        print(\"You memory is lossed 🤯\")\n"
   ]
  },
  {
   "cell_type": "code",
   "execution_count": 23,
   "metadata": {},
   "outputs": [
    {
     "name": "stdout",
     "output_type": "stream",
     "text": [
      "Chai ki dukan \n",
      "1. Chai 10 Rs\n",
      "2. Bun 25 Rs\n",
      "3. Maggi 40 Rs\n",
      "4. Samosa 10 Rs\n",
      "You have selected Bun \n"
     ]
    }
   ],
   "source": [
    "                     # Match case example \n",
    "print(\"Chai ki dukan \")\n",
    "print(\"1. Chai 10 Rs\")\n",
    "print(\"2. Bun 25 Rs\")\n",
    "print(\"3. Maggi 40 Rs\")\n",
    "print(\"4. Samosa 10 Rs\")\n",
    "choice = int(input(\"Enter your choice: \"))\n",
    "match choice:\n",
    "    case 1:\n",
    "        print(\"You have selected Chai \")\n",
    "    case 2:\n",
    "        print(\"You have selected Bun \")\n",
    "    case 3:\n",
    "        print(\"You have selected Maggi \")\n",
    "    case 4:\n",
    "        print(\"You have selected Samosa \")\n",
    "    case _:\n",
    "        print(\"invalid Choice\")"
   ]
  },
  {
   "cell_type": "code",
   "execution_count": null,
   "metadata": {},
   "outputs": [],
   "source": []
  }
 ],
 "metadata": {
  "kernelspec": {
   "display_name": "Python 3",
   "language": "python",
   "name": "python3"
  },
  "language_info": {
   "codemirror_mode": {
    "name": "ipython",
    "version": 3
   },
   "file_extension": ".py",
   "mimetype": "text/x-python",
   "name": "python",
   "nbconvert_exporter": "python",
   "pygments_lexer": "ipython3",
   "version": "3.12.2"
  }
 },
 "nbformat": 4,
 "nbformat_minor": 2
}
