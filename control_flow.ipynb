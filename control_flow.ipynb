{
 "cells": [
  {
   "cell_type": "markdown",
   "metadata": {},
   "source": [
    "# Control Flow \n",
    "### Condition \n",
    "- if\n",
    "- if else\n",
    "- if elif ladder\n",
    "- match case \n",
    "- nested if \n",
    "### Loops\n",
    "- for loop \n",
    "- while loop \n",
    "\n",
    "# Syntax:\n",
    "\n",
    "if expression:\n",
    "  - statement 1\n",
    "  - statement 2\n",
    "  - statement 3\n",
    "  - statement 4\n",
    "\n",
    "\n",
    "   statement n\n",
    "\n",
    "\n",
    "\n",
    "if expression:\n",
    "    ...\n",
    "else:\n",
    "    ..."
   ]
  },
  {
   "cell_type": "code",
   "execution_count": 3,
   "metadata": {},
   "outputs": [
    {
     "name": "stdout",
     "output_type": "stream",
     "text": [
      "🌞 Bad Weather\n",
      "Name exists\n"
     ]
    }
   ],
   "source": [
    "x= 20\n",
    "if x >=5:\n",
    "    print(\"🌞 Bad Weather\")\n",
    "\n",
    "y= 5\n",
    "if x > 10 and y < 2:\n",
    "    print (\"🌧️ Good Weather\")\n",
    "\n",
    "name = 'Harsh'\n",
    "if name:\n",
    "    print(\"Name exists\")        \n"
   ]
  },
  {
   "cell_type": "code",
   "execution_count": 5,
   "metadata": {},
   "outputs": [
    {
     "name": "stdout",
     "output_type": "stream",
     "text": [
      "List is not empty\n"
     ]
    }
   ],
   "source": [
    "m='bakassbccke'\n",
    "if len(m):\n",
    "    print (\"List is not empty\")\n",
    "else:\n",
    "    print(\"a is empty\")"
   ]
  },
  {
   "cell_type": "code",
   "execution_count": 6,
   "metadata": {},
   "outputs": [
    {
     "name": "stdout",
     "output_type": "stream",
     "text": [
      "C is the greatest\n"
     ]
    }
   ],
   "source": [
    "a=5                             # C ids bigger \n",
    "b=2\n",
    "c=10\n",
    "if a>b and a>c:\n",
    "    print (\"A is the greatest  \")\n",
    "elif b>a and b>c:\n",
    "    print (\"B is the  greatest \")\n",
    "else:\n",
    "    print(\"C is the greatest\")"
   ]
  },
  {
   "cell_type": "code",
   "execution_count": 7,
   "metadata": {},
   "outputs": [
    {
     "name": "stdout",
     "output_type": "stream",
     "text": [
      "B is the  greatest \n"
     ]
    }
   ],
   "source": [
    "a=5                               # B is bogger \n",
    "b=200\n",
    "c=10\n",
    "if a>b and a>c:\n",
    "    print (\"A is the greatest  \")\n",
    "elif b>a and b>c:\n",
    "    print (\"B is the  greatest \")\n",
    "else:\n",
    "    print(\"C is the greatest\")"
   ]
  },
  {
   "cell_type": "code",
   "execution_count": 8,
   "metadata": {},
   "outputs": [
    {
     "name": "stdout",
     "output_type": "stream",
     "text": [
      "A is the greatest  \n"
     ]
    }
   ],
   "source": [
    "a=591                             # A is bigger \n",
    "b=2\n",
    "c=10\n",
    "if a>b and a>c:\n",
    "    print (\"A is the greatest  \")\n",
    "elif b>a and b>c:\n",
    "    print (\"B is the  greatest \")\n",
    "else:\n",
    "    print(\"C is the greatest\")"
   ]
  },
  {
   "cell_type": "code",
   "execution_count": 13,
   "metadata": {},
   "outputs": [
    {
     "name": "stdout",
     "output_type": "stream",
     "text": [
      "Student Marks = 78\n",
      "------------------------------\n",
      "Student Grade = B\n"
     ]
    }
   ],
   "source": [
    "     # Grade Calculation with if elif ladder \n",
    "marks = int(input(\"Enter the marks\"))\n",
    "if marks >=90:\n",
    "    grade =\"A\"\n",
    "elif marks >=75:\n",
    "    grade =\"B\"\n",
    "elif marks >=60:\n",
    "    grade =\"C\"\n",
    "elif marks >=50:\n",
    "    grade =\"D\"\n",
    "else:\n",
    "    grade =\"F\"\n",
    "print (f\"Student Marks = {marks}\")\n",
    "print(\"---\"*10)\n",
    "print (f\"Student Grade = {grade}\")\n",
    "\n",
    "    "
   ]
  },
  {
   "cell_type": "code",
   "execution_count": 20,
   "metadata": {},
   "outputs": [
    {
     "name": "stdout",
     "output_type": "stream",
     "text": [
      "You are corret 💥\n"
     ]
    }
   ],
   "source": [
    "                           # Match Case example\n",
    "ans = input(\"What is India's Capital \").title()     # .title is used for changing the first word case \n",
    "match ans:\n",
    "    case 'Kanpur':\n",
    "        print(\"You are fool 🐮\")\n",
    "    case 'Delhi':\n",
    "        print(\"You are corret 💥\")\n",
    "    case 'Mumbai':\n",
    "        print(\"You are wrong 🐷\")\n",
    "    case 'Nagpur':\n",
    "        print(\"You are not of India 🐸\")\n",
    "    case _:\n",
    "        print(\"You memory is lossed 🤯\")\n"
   ]
  },
  {
   "cell_type": "code",
   "execution_count": 23,
   "metadata": {},
   "outputs": [
    {
     "name": "stdout",
     "output_type": "stream",
     "text": [
      "Chai ki dukan \n",
      "1. Chai 10 Rs\n",
      "2. Bun 25 Rs\n",
      "3. Maggi 40 Rs\n",
      "4. Samosa 10 Rs\n",
      "You have selected Bun \n"
     ]
    }
   ],
   "source": [
    "                     # Match case example \n",
    "print(\"Chai ki dukan \")\n",
    "print(\"1. Chai 10 Rs\")\n",
    "print(\"2. Bun 25 Rs\")\n",
    "print(\"3. Maggi 40 Rs\")\n",
    "print(\"4. Samosa 10 Rs\")\n",
    "choice = int(input(\"Enter your choice: \"))\n",
    "match choice:\n",
    "    case 1:\n",
    "        print(\"You have selected Chai \")\n",
    "    case 2:\n",
    "        print(\"You have selected Bun \")\n",
    "    case 3:\n",
    "        print(\"You have selected Maggi \")\n",
    "    case 4:\n",
    "        print(\"You have selected Samosa \")\n",
    "    case _:\n",
    "        print(\"invalid Choice\")"
   ]
  },
  {
   "cell_type": "markdown",
   "metadata": {},
   "source": [
    "## Loops\n",
    "- step based loop (for loop)\n",
    "- condition based loop(while loop)\n",
    "\n",
    "\n",
    "*** python syntax for for loop           \n",
    "for varname in iterable:\n",
    "    statement 1 \n",
    "    statement 2\n",
    "\n",
    "    ...\n",
    "\n",
    "    statement n\n",
    "\n",
    "\n",
    "*** python syntax for while loop \n",
    "while expression \n",
    "    statement 1\n",
    "    statement 2\n",
    "\n",
    "    ...\n",
    "\n",
    "\n",
    "    statement n\n",
    "  "
   ]
  },
  {
   "cell_type": "code",
   "execution_count": 4,
   "metadata": {},
   "outputs": [
    {
     "name": "stdout",
     "output_type": "stream",
     "text": [
      "1\n",
      "2\n",
      "3\n",
      "4\n",
      "5\n",
      "6\n"
     ]
    }
   ],
   "source": [
    "# Example 1 of for loop\n",
    "n = [1,2,3,4,5,6]\n",
    "for i in n:\n",
    "    print(i)"
   ]
  },
  {
   "cell_type": "code",
   "execution_count": 5,
   "metadata": {},
   "outputs": [
    {
     "name": "stdout",
     "output_type": "stream",
     "text": [
      "sony\n",
      "apple\n",
      "lava\n",
      "lenovo\n"
     ]
    }
   ],
   "source": [
    "# Example 2 of for loop\n",
    "brands=['sony','apple','lava','lenovo']\n",
    "for name in brands:\n",
    "    print(name)"
   ]
  },
  {
   "cell_type": "markdown",
   "metadata": {},
   "source": [
    "# Iterable\n",
    "- list\n",
    "- str\n",
    "- tuple\n",
    "- set\n",
    "- dict\n",
    "- range\n",
    "- generator \n"
   ]
  },
  {
   "cell_type": "code",
   "execution_count": 6,
   "metadata": {},
   "outputs": [
    {
     "name": "stdout",
     "output_type": "stream",
     "text": [
      "T\n",
      "U\n",
      "E\n",
      "S\n",
      "D\n",
      "A\n",
      "Y\n"
     ]
    }
   ],
   "source": [
    "# Example \n",
    "word='TUESDAY'\n",
    "for ch in word: \n",
    "    print(ch)"
   ]
  },
  {
   "cell_type": "code",
   "execution_count": 7,
   "metadata": {},
   "outputs": [
    {
     "name": "stdout",
     "output_type": "stream",
     "text": [
      "34\n",
      "233\n",
      "12\n",
      "76\n",
      "22\n",
      "87\n",
      "56\n"
     ]
    }
   ],
   "source": [
    "#Example \n",
    "for i in {12,34,56,76,87,233,22}:\n",
    "    print(i)"
   ]
  },
  {
   "cell_type": "markdown",
   "metadata": {},
   "source": [
    "'range' funtion for the ' for loop'\n"
   ]
  },
  {
   "cell_type": "code",
   "execution_count": 10,
   "metadata": {},
   "outputs": [
    {
     "name": "stdout",
     "output_type": "stream",
     "text": [
      "0 1 2 3 4 5 6 7 8 9 10 11 12 13 14 15 16 17 18 19 20 21 22 23 24 25 26 27 28 29 30 31 32 33 34 35 36 37 38 39 40 41 42 43 44 45 46 47 48 49 "
     ]
    }
   ],
   "source": [
    "for i in range (50):\n",
    "    print(i, end=' ')"
   ]
  },
  {
   "cell_type": "code",
   "execution_count": 11,
   "metadata": {},
   "outputs": [
    {
     "name": "stdout",
     "output_type": "stream",
     "text": [
      "10 11 12 13 14 15 16 17 18 19 20 21 22 23 24 25 26 27 28 29 30 31 32 33 34 35 36 37 38 39 40 41 42 43 44 45 46 47 48 49 "
     ]
    }
   ],
   "source": [
    "for i in range (10,50):\n",
    "    print(i, end=' ')"
   ]
  },
  {
   "cell_type": "code",
   "execution_count": 12,
   "metadata": {},
   "outputs": [
    {
     "name": "stdout",
     "output_type": "stream",
     "text": [
      "10 15 20 25 30 35 40 45 "
     ]
    }
   ],
   "source": [
    "for i in range (10,50,5):\n",
    "    print(i, end=' ')"
   ]
  },
  {
   "cell_type": "code",
   "execution_count": 14,
   "metadata": {},
   "outputs": [
    {
     "name": "stdout",
     "output_type": "stream",
     "text": [
      "10 9 8 7 6 5 4 3 2 1 "
     ]
    }
   ],
   "source": [
    "# reverse loop \n",
    "for i in range(10,0,-1):\n",
    "    print(i, end=' ')"
   ]
  },
  {
   "cell_type": "code",
   "execution_count": 17,
   "metadata": {},
   "outputs": [],
   "source": [
    "for i in range(-6,6,-1):\n",
    "    print(i, end=' ')"
   ]
  },
  {
   "cell_type": "code",
   "execution_count": 22,
   "metadata": {},
   "outputs": [
    {
     "name": "stdout",
     "output_type": "stream",
     "text": [
      "-5 -4 -3 -2 -1 0 1 2 3 4 5 "
     ]
    }
   ],
   "source": [
    "for i in range(-5,6,):\n",
    "    print(i, end=' ')"
   ]
  },
  {
   "cell_type": "code",
   "execution_count": 28,
   "metadata": {},
   "outputs": [
    {
     "name": "stdout",
     "output_type": "stream",
     "text": [
      "Sum of all numbers 1 to 100\n",
      "------------------------------\n",
      "5050\n"
     ]
    }
   ],
   "source": [
    "# sum of all number from 1-100\n",
    "total=0;\n",
    "for i in range(1,101):\n",
    "    total=total+i\n",
    "print(\"Sum of all numbers 1 to 100\")\n",
    "print('---'*10)    \n",
    "print(total)"
   ]
  },
  {
   "cell_type": "code",
   "execution_count": 30,
   "metadata": {},
   "outputs": [
    {
     "data": {
      "text/plain": [
       "5050"
      ]
     },
     "execution_count": 30,
     "metadata": {},
     "output_type": "execute_result"
    }
   ],
   "source": [
    "# using sum funtion in python\n",
    "\n",
    "sum(list(range(1,101))) "
   ]
  },
  {
   "cell_type": "code",
   "execution_count": 47,
   "metadata": {},
   "outputs": [
    {
     "name": "stdout",
     "output_type": "stream",
     "text": [
      "['ben', 'rohan', 'suresh', 'hdh']\n"
     ]
    }
   ],
   "source": [
    "# find largest word in the list \n",
    "word = ['ben','rohan','suresh','hdh']\n",
    "lar=' '\n",
    "for item in lar:\n",
    "    if len(lar) > len(word):\n",
    "         word=lar\n",
    "print(word)"
   ]
  },
  {
   "cell_type": "code",
   "execution_count": 49,
   "metadata": {},
   "outputs": [
    {
     "name": "stdout",
     "output_type": "stream",
     "text": [
      "0 1 2 3 4 the end\n"
     ]
    }
   ],
   "source": [
    "for i in range(10):\n",
    "    if i == 5:\n",
    "        break\n",
    "    print(i, end=' ')\n",
    "print(\"the end\")"
   ]
  },
  {
   "cell_type": "code",
   "execution_count": 51,
   "metadata": {},
   "outputs": [
    {
     "name": "stdout",
     "output_type": "stream",
     "text": [
      "1\n",
      "2\n",
      "3\n",
      "We found some error\n"
     ]
    }
   ],
   "source": [
    "data =[1,2,3,0,5,6,7,8,9]\n",
    "for i in data:\n",
    "    if i == 0:\n",
    "        print(\"We found some error\")\n",
    "        break # stop the loop \n",
    "    print(i)"
   ]
  },
  {
   "cell_type": "code",
   "execution_count": 52,
   "metadata": {},
   "outputs": [
    {
     "name": "stdout",
     "output_type": "stream",
     "text": [
      "1\n",
      "2\n",
      "3\n",
      "5\n",
      "6\n",
      "7\n",
      "8\n",
      "9\n"
     ]
    }
   ],
   "source": [
    "data =[1,2,3,0,5,6,7,8,9]\n",
    "for i in data:\n",
    "    if i == 0:\n",
    "        continue # skip for the next\n",
    "        \n",
    "    print(i)"
   ]
  },
  {
   "cell_type": "code",
   "execution_count": 53,
   "metadata": {},
   "outputs": [
    {
     "name": "stdout",
     "output_type": "stream",
     "text": [
      "0 apple\n",
      "1 banana\n",
      "2 mango\n",
      "3 kiwi\n",
      "4 orange\n"
     ]
    }
   ],
   "source": [
    "\n",
    "fruits =['apple','banana','mango','kiwi','orange']\n",
    "for idx,name in enumerate(fruits):\n",
    "    print(idx, name)"
   ]
  },
  {
   "cell_type": "code",
   "execution_count": 58,
   "metadata": {},
   "outputs": [
    {
     "name": "stdout",
     "output_type": "stream",
     "text": [
      "22 0\n",
      "544 -1\n",
      "12 -2\n",
      "32 -3\n",
      "34 -4\n"
     ]
    }
   ],
   "source": [
    "numbers =['22','544','12','32','34']\n",
    "for idx,num in enumerate(numbers):\n",
    "    print(num ,-idx)"
   ]
  },
  {
   "cell_type": "code",
   "execution_count": 56,
   "metadata": {},
   "outputs": [
    {
     "name": "stdout",
     "output_type": "stream",
     "text": [
      "\n",
      "544\n",
      "1212\n",
      "323232\n",
      "34343434\n"
     ]
    }
   ],
   "source": [
    "numbers =['22','544','12','32','34']\n",
    "for idx,num in enumerate(numbers):\n",
    "    print(num*idx)"
   ]
  },
  {
   "cell_type": "code",
   "execution_count": 62,
   "metadata": {},
   "outputs": [
    {
     "name": "stdout",
     "output_type": "stream",
     "text": [
      "5\n",
      "7\n",
      "9\n"
     ]
    }
   ],
   "source": [
    "x= [1,2,3]\n",
    "y= [4,5,6]\n",
    "for i,j in zip(x,y):\n",
    "    print(i + j)"
   ]
  },
  {
   "cell_type": "code",
   "execution_count": null,
   "metadata": {},
   "outputs": [],
   "source": []
  },
  {
   "cell_type": "code",
   "execution_count": null,
   "metadata": {},
   "outputs": [],
   "source": []
  }
 ],
 "metadata": {
  "kernelspec": {
   "display_name": "Python 3",
   "language": "python",
   "name": "python3"
  },
  "language_info": {
   "codemirror_mode": {
    "name": "ipython",
    "version": 3
   },
   "file_extension": ".py",
   "mimetype": "text/x-python",
   "name": "python",
   "nbconvert_exporter": "python",
   "pygments_lexer": "ipython3",
   "version": "3.12.2"
  }
 },
 "nbformat": 4,
 "nbformat_minor": 2
}
