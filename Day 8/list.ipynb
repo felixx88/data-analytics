{
 "cells": [
  {
   "cell_type": "markdown",
   "metadata": {},
   "source": [
    "# Data Structure \n",
    "- creation \n",
    "- Indexing and slicing(same as string)\n",
    "- methods \n",
    "- list comprehension"
   ]
  },
  {
   "cell_type": "code",
   "execution_count": 1,
   "metadata": {},
   "outputs": [],
   "source": [
    "# Creation \n",
    "x=[]\n",
    "num_list= [1,2,3,4]\n",
    "word_list= [\"apple\",\"banana\",\"mango\"]\n",
    "bool_list= [True,False]\n",
    "mixed_list= [1,2,'hello',3,'good']\n",
    "nested_list= [[1,3],[4,6]]"
   ]
  },
  {
   "cell_type": "code",
   "execution_count": 4,
   "metadata": {},
   "outputs": [
    {
     "name": "stdout",
     "output_type": "stream",
     "text": [
      "[10, 20, 30, 40, 50, 60, 70, 80, 90]\n",
      "[1, 4, 7, 10, 13]\n"
     ]
    }
   ],
   "source": [
    "y= list(range(1,16,3))\n",
    "x= list(range(10,100,10))\n",
    "print(x)\n",
    "print(y)"
   ]
  },
  {
   "cell_type": "code",
   "execution_count": 5,
   "metadata": {},
   "outputs": [
    {
     "name": "stdout",
     "output_type": "stream",
     "text": [
      "[[1, 2, 3], [4, 5, 6], [7, 8, 9]]\n"
     ]
    }
   ],
   "source": [
    "a= [1,2,3]\n",
    "b= [4,5,6]\n",
    "c= [7,8,9]\n",
    "mat=[a,b,c]\n",
    "print(mat)"
   ]
  },
  {
   "cell_type": "code",
   "execution_count": 6,
   "metadata": {},
   "outputs": [
    {
     "name": "stdout",
     "output_type": "stream",
     "text": [
      "[10, 10, 10, 10, 10, 10, 10, 10, 10, 10]\n"
     ]
    }
   ],
   "source": [
    "z=[10]*10\n",
    "print(z)"
   ]
  },
  {
   "cell_type": "markdown",
   "metadata": {},
   "source": [
    "# Rules for the list \n",
    "- 1.Indexed\n",
    "- 2.Ordered\n",
    "- 3.mutable\n",
    "- 4.Hetrogenous datatype\n",
    "- 5.can have duplicate values \n",
    "- 6.represent with[]\n",
    "- 7.list() can be used to cast other datastructure of list "
   ]
  },
  {
   "cell_type": "code",
   "execution_count": 8,
   "metadata": {},
   "outputs": [
    {
     "name": "stdout",
     "output_type": "stream",
     "text": [
      "['harsh', 'raj', 'mohan', 'rohit', 'rohan']\n",
      "['harsh', 'raj']\n",
      "['harsh', 'raj', 'mohan', 'rohit', 'rohan', 'mukesh']\n",
      "['raj', 'rohit', 'mukesh', 'naman', 'suryansh', 'lalit', 'divy']\n",
      "['harsh', 'mohan', 'rohan', 'rajveer', 'akshat', 'amar', 'vaibhav', 'yash']\n",
      "['yash', 'divy', 'vaibhav', 'lalit', 'amar', 'suryansh', 'akshat', 'naman', 'rajveer', 'mukesh', 'rohan', 'rohit', 'mohan', 'raj', 'harsh']\n"
     ]
    }
   ],
   "source": [
    "names= [\"harsh\",\"raj\",\"mohan\",\"rohit\",\"rohan\",\"mukesh\",\"rajveer\",\"naman\",\"akshat\",\"suryansh\",\"amar\",\"lalit\",\"vaibhav\",\"divy\",\"yash\"]\n",
    "print(names[:5])\n",
    "print(names[:2])\n",
    "print(names[:6])\n",
    "print(names[1::2]) # odd\n",
    "print(names[::2])  # even\n",
    "print(names[::-1]) #reverse"
   ]
  },
  {
   "cell_type": "code",
   "execution_count": 11,
   "metadata": {},
   "outputs": [
    {
     "name": "stdout",
     "output_type": "stream",
     "text": [
      "hsrah jar nahom tihor nahor hsekum reevjar naman tahska hsnayrus rama tilal vahbiav yvid hsay "
     ]
    }
   ],
   "source": [
    "# reverseing words \n",
    "for i in names:\n",
    "    print(i[::-1], end=' ')"
   ]
  },
  {
   "cell_type": "markdown",
   "metadata": {},
   "source": [
    "# LIST METHODS \n",
    "\n",
    "\n",
    "1-Add\n",
    "- append\n",
    "- extend\n",
    "- insert\n",
    "\n",
    "2-Remove\n",
    "- remove\n",
    "- pop\n",
    "- clear\n",
    "\n",
    "3-Utility\n",
    "- reverse\n",
    "- count\n",
    "- index\n",
    "- copy "
   ]
  },
  {
   "cell_type": "code",
   "execution_count": 12,
   "metadata": {},
   "outputs": [
    {
     "name": "stdout",
     "output_type": "stream",
     "text": [
      "['apple', 'banana', 'mango', 'cherry', 'dragonfruit', 'guava', 'watermilon', 'fig']\n"
     ]
    }
   ],
   "source": [
    "fruits= ['apple','banana','mango','cherry','dragonfruit','guava','watermilon','fig']\n",
    "print(fruits)"
   ]
  },
  {
   "cell_type": "code",
   "execution_count": 13,
   "metadata": {},
   "outputs": [
    {
     "name": "stdout",
     "output_type": "stream",
     "text": [
      "['apple', 'banana', 'mango', 'cherry', 'dragonfruit', 'guava', 'watermilon', 'fig', 'guava']\n"
     ]
    }
   ],
   "source": [
    "fruits.append('guava')\n",
    "print(fruits)"
   ]
  },
  {
   "cell_type": "code",
   "execution_count": 14,
   "metadata": {},
   "outputs": [
    {
     "name": "stdout",
     "output_type": "stream",
     "text": [
      "['apple', 'banana', 'mango', 'cherry', 'dragonfruit', 'guava', 'watermilon', 'fig', 'guava', [1, 2, 3, 4]]\n"
     ]
    }
   ],
   "source": [
    "fruits.append([1,2,3,4])\n",
    "print(fruits)\n"
   ]
  },
  {
   "cell_type": "code",
   "execution_count": 16,
   "metadata": {},
   "outputs": [
    {
     "name": "stdout",
     "output_type": "stream",
     "text": [
      "[11, 22, 33, 44, 55, 66, 77, 111, 99]\n"
     ]
    }
   ],
   "source": [
    "x= [11,22,33,44,55,66,77,88,99]\n",
    "x[7]= 111\n",
    "print(x)"
   ]
  },
  {
   "cell_type": "code",
   "execution_count": 19,
   "metadata": {},
   "outputs": [
    {
     "name": "stdout",
     "output_type": "stream",
     "text": [
      "[1, 2, 3, 4]\n"
     ]
    }
   ],
   "source": [
    "     # remove \n",
    "x= [1,2,3,4,5,6]\n",
    "if 5 in x:\n",
    "    x.remove(5)\n",
    "if 6 in x:\n",
    "    x.remove(6)\n",
    "print(x)"
   ]
  },
  {
   "cell_type": "code",
   "execution_count": 21,
   "metadata": {},
   "outputs": [
    {
     "name": "stdout",
     "output_type": "stream",
     "text": [
      "[11, 12, 13, 14, 15, 16, 17]\n"
     ]
    }
   ],
   "source": [
    "     #pop\n",
    "x= [11,12,13,14,15,16,17,18]\n",
    "x.pop()\n",
    "print(x)"
   ]
  },
  {
   "cell_type": "code",
   "execution_count": 22,
   "metadata": {},
   "outputs": [
    {
     "name": "stdout",
     "output_type": "stream",
     "text": [
      "[11, 12, 13, 14, 15, 16]\n",
      "17\n"
     ]
    }
   ],
   "source": [
    "item= x.pop()\n",
    "print(x)\n",
    "print(item)"
   ]
  },
  {
   "cell_type": "code",
   "execution_count": 23,
   "metadata": {},
   "outputs": [
    {
     "name": "stdout",
     "output_type": "stream",
     "text": [
      "[[1, 2, 3, 4], 'guava', 'fig', 'watermilon', 'guava', 'dragonfruit', 'cherry', 'mango', 'banana', 'apple']\n"
     ]
    }
   ],
   "source": [
    "fruits.reverse()\n",
    "print(fruits)"
   ]
  },
  {
   "cell_type": "code",
   "execution_count": 26,
   "metadata": {},
   "outputs": [
    {
     "name": "stdout",
     "output_type": "stream",
     "text": [
      "[10, 15, 25, 30, 45, 60, 75, 90, 105, 110]\n",
      "[110, 105, 90, 75, 60, 45, 30, 25, 15, 10]\n"
     ]
    }
   ],
   "source": [
    "nums= [15,110,30,10,45,60,25,75,90,105]\n",
    "nums.sort()\n",
    "print(nums)\n",
    "\n",
    "nums.sort(reverse=True)\n",
    "print(nums)"
   ]
  },
  {
   "cell_type": "code",
   "execution_count": 28,
   "metadata": {},
   "outputs": [
    {
     "name": "stdout",
     "output_type": "stream",
     "text": [
      "1\n",
      "[[1, 2, 3, 4], 'guava', 'fig', 'watermilon', 'guava', 'dragonfruit', 'cherry', 'mango', 'banana', 'apple']\n",
      "8\n"
     ]
    }
   ],
   "source": [
    "print(x.count(15))\n",
    "print(fruits)\n",
    "print(fruits.index('banana'))"
   ]
  },
  {
   "cell_type": "code",
   "execution_count": 29,
   "metadata": {},
   "outputs": [
    {
     "name": "stdout",
     "output_type": "stream",
     "text": [
      "[1, 2, 3]\n",
      "False\n",
      "[1, 2, 3]\n"
     ]
    }
   ],
   "source": [
    "x= [1,2,3]\n",
    "y=x\n",
    "print(y)\n",
    "print(y in x)\n",
    "\n",
    "z=x.copy\n",
    "print(x)"
   ]
  },
  {
   "cell_type": "code",
   "execution_count": null,
   "metadata": {},
   "outputs": [],
   "source": []
  }
 ],
 "metadata": {
  "kernelspec": {
   "display_name": "Python 3",
   "language": "python",
   "name": "python3"
  },
  "language_info": {
   "codemirror_mode": {
    "name": "ipython",
    "version": 3
   },
   "file_extension": ".py",
   "mimetype": "text/x-python",
   "name": "python",
   "nbconvert_exporter": "python",
   "pygments_lexer": "ipython3",
   "version": "3.12.2"
  }
 },
 "nbformat": 4,
 "nbformat_minor": 2
}
