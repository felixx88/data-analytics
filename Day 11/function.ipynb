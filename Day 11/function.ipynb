{
 "cells": [
  {
   "cell_type": "markdown",
   "metadata": {},
   "source": [
    "# Function \n",
    "- 1. Predefined funtions\n",
    "- a. built in funtion (directly availiable)\n",
    "- b. module funtion (need to import)\n",
    "- --python standard libary \n",
    "- --3rd party libary(pip install library)\n",
    "\n",
    "- 2. User defined funtions\n",
    "- a.non pramaterized\n",
    "- b. funtion with return type\n",
    "- c. paramatrized\n"
   ]
  },
  {
   "cell_type": "code",
   "execution_count": 1,
   "metadata": {},
   "outputs": [
    {
     "data": {
      "text/plain": [
       "5"
      ]
     },
     "execution_count": 1,
     "metadata": {},
     "output_type": "execute_result"
    }
   ],
   "source": [
    "# help() is to seee whatit will do without using internet\n",
    "\n",
    "eval(\"2 + 3\")"
   ]
  },
  {
   "cell_type": "code",
   "execution_count": 6,
   "metadata": {},
   "outputs": [
    {
     "data": {
      "text/plain": [
       "5"
      ]
     },
     "execution_count": 6,
     "metadata": {},
     "output_type": "execute_result"
    }
   ],
   "source": [
    "x = 5\n",
    "eq = input('give me an equation for x')\n",
    "eval(eq)"
   ]
  },
  {
   "cell_type": "markdown",
   "metadata": {},
   "source": [
    "# open() for file handling"
   ]
  },
  {
   "cell_type": "markdown",
   "metadata": {},
   "source": [
    "# python standard library\n"
   ]
  },
  {
   "cell_type": "code",
   "execution_count": 20,
   "metadata": {},
   "outputs": [
    {
     "name": "stdout",
     "output_type": "stream",
     "text": [
      "4\n",
      "3\n",
      "3\n",
      "2\n",
      "2\n",
      "9\n",
      "10\n",
      "5\n",
      "10\n",
      "5\n"
     ]
    }
   ],
   "source": [
    "import random\n",
    "\n",
    "for i in range(10):\n",
    "    ans = random.randint(1, 10)\n",
    "    print(ans)"
   ]
  },
  {
   "cell_type": "code",
   "execution_count": 21,
   "metadata": {},
   "outputs": [
    {
     "name": "stdout",
     "output_type": "stream",
     "text": [
      "cherry\n",
      "apple\n",
      "apple\n",
      "apple\n",
      "banana\n",
      "cherry\n",
      "banana\n",
      "banana\n",
      "apple\n",
      "cherry\n"
     ]
    }
   ],
   "source": [
    "fruits = ['apple','banana','cherry']\n",
    "for i in range(10):\n",
    "    print(random.choice(fruits))"
   ]
  },
  {
   "cell_type": "code",
   "execution_count": 5,
   "metadata": {},
   "outputs": [
    {
     "name": "stdout",
     "output_type": "stream",
     "text": [
      "[3, 8, 6, 9, 3, 10, 4, 5, 8, 8]\n",
      "[7, 2, 4]\n",
      "[9, 5, 7, 3, 6, 1, 4, 8, 2, 10]\n"
     ]
    }
   ],
   "source": [
    "import random\n",
    "x = [1,2,3,4,5,6,7,8,9,10]\n",
    "print(random.choices(x, k=10))\n",
    "print(random.sample(x, k=3))\n",
    "random.shuffle(x)\n",
    "print(x)"
   ]
  },
  {
   "cell_type": "code",
   "execution_count": 6,
   "metadata": {},
   "outputs": [],
   "source": [
    "from datetime import datetime"
   ]
  },
  {
   "cell_type": "code",
   "execution_count": 19,
   "metadata": {},
   "outputs": [
    {
     "name": "stdout",
     "output_type": "stream",
     "text": [
      "2012-12-12 00:00:00\n",
      "1970-01-01 11:05:00\n",
      "2024-08-23 20:00:21.711289\n",
      "1724423421.711289\n",
      "2064-08-30 03:28:47\n",
      "2024-08-23 20:00:21.711445\n",
      "2024-12-01 20:00:21.711445\n",
      "2024-08-23\n",
      "20:00:21.711445\n",
      "23/08/24\n",
      "20:00\n"
     ]
    }
   ],
   "source": [
    "doomsday = datetime(2012, 12, 12)\n",
    "print(doomsday) \n",
    "time = datetime(1970, 1, 1, 11, 5)\n",
    "print(time)\n",
    "cuurDay = datetime.now()\n",
    "print(cuurDay)\n",
    "timestamp = datetime.timestamp(cuurDay)\n",
    "print(timestamp)\n",
    "print(datetime.fromtimestamp(2987272727))\n",
    "\n",
    "\n",
    "from datetime import timedelta\n",
    " \n",
    "today = datetime.now()\n",
    "print(today)\n",
    "print(today + timedelta(days=100))\n",
    "\n",
    "\n",
    "# format time \n",
    "print(today.date())\n",
    "print(today.time())\n",
    "\n",
    "\n",
    "# strftime\n",
    "print(today.strftime(\"%d/%m/%y\"))\n",
    "print(today.strftime(\"%H:%M\"))"
   ]
  },
  {
   "cell_type": "code",
   "execution_count": 20,
   "metadata": {},
   "outputs": [
    {
     "name": "stdout",
     "output_type": "stream",
     "text": [
      "/Users/harshshukla/Desktop/data analytics /Day 11\n"
     ]
    }
   ],
   "source": [
    "# os module \n",
    "import os \n",
    "BASE_DIR = os.getcwd()\n",
    "print(BASE_DIR)"
   ]
  },
  {
   "cell_type": "code",
   "execution_count": 21,
   "metadata": {},
   "outputs": [
    {
     "name": "stdout",
     "output_type": "stream",
     "text": [
      "['function.ipynb']\n"
     ]
    }
   ],
   "source": [
    "print(os.listdir())"
   ]
  },
  {
   "cell_type": "code",
   "execution_count": 23,
   "metadata": {},
   "outputs": [
    {
     "data": {
      "text/plain": [
       "\"# delete file \\nos.unlink('hello.txt')\\nprint(os.listdir)\""
      ]
     },
     "execution_count": 23,
     "metadata": {},
     "output_type": "execute_result"
    }
   ],
   "source": [
    "'''# delete file \n",
    "os.unlink('hello.txt')\n",
    "print(os.listdir)'''"
   ]
  },
  {
   "cell_type": "code",
   "execution_count": 49,
   "metadata": {},
   "outputs": [
    {
     "name": "stdout",
     "output_type": "stream",
     "text": [
      "83\n"
     ]
    }
   ],
   "source": [
    "content = os.listdir(\"/Users/harshshukla/Desktop\")\n",
    "print(len(content))"
   ]
  },
  {
   "cell_type": "code",
   "execution_count": 37,
   "metadata": {},
   "outputs": [],
   "source": [
    "# address and path size makedir "
   ]
  }
 ],
 "metadata": {
  "kernelspec": {
   "display_name": "Python 3",
   "language": "python",
   "name": "python3"
  },
  "language_info": {
   "codemirror_mode": {
    "name": "ipython",
    "version": 3
   },
   "file_extension": ".py",
   "mimetype": "text/x-python",
   "name": "python",
   "nbconvert_exporter": "python",
   "pygments_lexer": "ipython3",
   "version": "3.12.2"
  }
 },
 "nbformat": 4,
 "nbformat_minor": 2
}
