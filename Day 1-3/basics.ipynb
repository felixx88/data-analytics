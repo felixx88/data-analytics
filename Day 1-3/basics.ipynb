{
 "cells": [
  {
   "cell_type": "markdown",
   "metadata": {},
   "source": [
    "# basics \n",
    "- variables\n",
    "- operators\n",
    "- datattypes\n",
    "- input/output\n",
    "\n"
   ]
  },
  {
   "cell_type": "code",
   "execution_count": 13,
   "metadata": {},
   "outputs": [],
   "source": [
    "x = 3   # variiable declaration type 1\n",
    "a,b =10,11   # variable declaration type 2\n",
    "c=a+b \n",
    "c=c+x    # calculating sum "
   ]
  },
  {
   "cell_type": "code",
   "execution_count": 15,
   "metadata": {},
   "outputs": [
    {
     "name": "stdout",
     "output_type": "stream",
     "text": [
      "24\n"
     ]
    }
   ],
   "source": [
    "print(c)     # printing sum stored in c\n"
   ]
  },
  {
   "cell_type": "code",
   "execution_count": 19,
   "metadata": {},
   "outputs": [
    {
     "name": "stdout",
     "output_type": "stream",
     "text": [
      "500\n"
     ]
    }
   ],
   "source": [
    "        # calculating area \n",
    "l=5         \n",
    "b=100\n",
    "area = l*b\n",
    "print(area)"
   ]
  },
  {
   "cell_type": "code",
   "execution_count": 21,
   "metadata": {},
   "outputs": [
    {
     "name": "stdout",
     "output_type": "stream",
     "text": [
      "996.0\n"
     ]
    }
   ],
   "source": [
    "         # calculating simple interest \n",
    "p=1992\n",
    "r=10\n",
    "t=5\n",
    "si =(p*r*t)/100\n",
    "print(si)\n"
   ]
  },
  {
   "cell_type": "code",
   "execution_count": 9,
   "metadata": {},
   "outputs": [],
   "source": [
    "del(area)      # deleting area value "
   ]
  },
  {
   "cell_type": "markdown",
   "metadata": {},
   "source": [
    "# operators\n",
    "- assignment\n",
    "- arithmetic \n",
    "- comparison \n",
    "- logical \n",
    "- membership \n",
    "- identity "
   ]
  },
  {
   "cell_type": "markdown",
   "metadata": {},
   "source": [
    "# Assignment \n",
    "+ -  =+ / *"
   ]
  },
  {
   "cell_type": "code",
   "execution_count": 22,
   "metadata": {},
   "outputs": [
    {
     "name": "stdout",
     "output_type": "stream",
     "text": [
      "65\n"
     ]
    }
   ],
   "source": [
    "      # assignment aperators\n",
    "x=10\n",
    "x+=5\n",
    "x-=2\n",
    "x*=5\n",
    "\n",
    "print(x)"
   ]
  },
  {
   "cell_type": "code",
   "execution_count": 24,
   "metadata": {},
   "outputs": [
    {
     "data": {
      "text/plain": [
       "0.5"
      ]
     },
     "execution_count": 24,
     "metadata": {},
     "output_type": "execute_result"
    }
   ],
   "source": [
    "a=10\n",
    "b=20\n"
   ]
  },
  {
   "cell_type": "code",
   "execution_count": 25,
   "metadata": {},
   "outputs": [
    {
     "data": {
      "text/plain": [
       "30"
      ]
     },
     "execution_count": 25,
     "metadata": {},
     "output_type": "execute_result"
    }
   ],
   "source": [
    "a+b"
   ]
  },
  {
   "cell_type": "code",
   "execution_count": 17,
   "metadata": {},
   "outputs": [
    {
     "data": {
      "text/plain": [
       "0"
      ]
     },
     "execution_count": 17,
     "metadata": {},
     "output_type": "execute_result"
    }
   ],
   "source": [
    "a-b"
   ]
  },
  {
   "cell_type": "code",
   "execution_count": 18,
   "metadata": {},
   "outputs": [
    {
     "data": {
      "text/plain": [
       "400"
      ]
     },
     "execution_count": 18,
     "metadata": {},
     "output_type": "execute_result"
    }
   ],
   "source": [
    "a*b"
   ]
  },
  {
   "cell_type": "code",
   "execution_count": 19,
   "metadata": {},
   "outputs": [
    {
     "data": {
      "text/plain": [
       "1.0"
      ]
     },
     "execution_count": 19,
     "metadata": {},
     "output_type": "execute_result"
    }
   ],
   "source": [
    "a/b"
   ]
  },
  {
   "cell_type": "code",
   "execution_count": 20,
   "metadata": {},
   "outputs": [
    {
     "name": "stdout",
     "output_type": "stream",
     "text": [
      "1\n",
      "0\n",
      "104857600000000000000000000\n"
     ]
    }
   ],
   "source": [
    "print (a//b) #integer devision \n",
    "print (a%b) #remainder\n",
    "print (a**b) # exponent "
   ]
  },
  {
   "cell_type": "code",
   "execution_count": 21,
   "metadata": {},
   "outputs": [
    {
     "name": "stdout",
     "output_type": "stream",
     "text": [
      "False\n",
      "True\n",
      "False\n",
      "True\n",
      "False\n",
      "True\n"
     ]
    }
   ],
   "source": [
    "# comparison  < > >= <= == !=\n",
    "m=140\n",
    "n=280\n",
    "print (m>n)\n",
    "print (m<n)\n",
    "print (m>=n)\n",
    "print (m<=n)\n",
    "print (m==n)\n",
    "print (m!=n)"
   ]
  },
  {
   "cell_type": "code",
   "execution_count": 27,
   "metadata": {},
   "outputs": [
    {
     "name": "stdout",
     "output_type": "stream",
     "text": [
      "False\n",
      "True\n"
     ]
    }
   ],
   "source": [
    "# logical  and  , or ,not\n",
    "\n",
    "print (m > 10 and n > 400)\n",
    "print (not m<5)\n"
   ]
  },
  {
   "cell_type": "code",
   "execution_count": 28,
   "metadata": {},
   "outputs": [
    {
     "name": "stdout",
     "output_type": "stream",
     "text": [
      "True\n",
      "False\n",
      "False\n",
      "True\n"
     ]
    }
   ],
   "source": [
    "# membership in ,not in \n",
    "x=[1,2,3,4,5,6,7,8,9]\n",
    "print (5 in x)\n",
    "print (10 in x)\n",
    "print (3 not in x)\n",
    "print (10 not in x)"
   ]
  },
  {
   "cell_type": "code",
   "execution_count": 29,
   "metadata": {},
   "outputs": [
    {
     "name": "stdout",
     "output_type": "stream",
     "text": [
      "True\n",
      "False\n",
      "False\n"
     ]
    }
   ],
   "source": [
    "# identity  is ,is not \n",
    "a=[1,2,3,4]\n",
    "b=a\n",
    "c=[1,2,3,4,]\n",
    "print (a is b)\n",
    "print (a is c)\n",
    "print (b is c)\n"
   ]
  },
  {
   "cell_type": "markdown",
   "metadata": {},
   "source": [
    "# Datatypes \n",
    "- int \n",
    "- float \n",
    "- bool \n",
    "- str \n",
    "- null\n",
    "- list \n",
    "- tuple \n",
    "- set \n",
    "- dict (dictonary)\n"
   ]
  },
  {
   "cell_type": "code",
   "execution_count": 34,
   "metadata": {},
   "outputs": [],
   "source": [
    "x=10                     # integer \n",
    "pi=3.443                 # float value\n",
    "happy = False            # boolean value\n",
    "name =\"Harsh Shukla \"    # string value\n",
    "data = None              # null value\n",
    "a_list = [1,2,3,4,5]     # list (declaration of multiple values)\n",
    "a_tuple = (1,2,3,4,5)\n",
    "a_set = {1,2,3,4,5}\n",
    "a_dict = {'a':10 , 'b':20}    # assign a particular value"
   ]
  },
  {
   "cell_type": "markdown",
   "metadata": {},
   "source": [
    "# Displaying \n",
    "- Input \n",
    "- Output "
   ]
  },
  {
   "cell_type": "code",
   "execution_count": 41,
   "metadata": {},
   "outputs": [
    {
     "name": "stdout",
     "output_type": "stream",
     "text": [
      "\n",
      "HELLO\n",
      "Example String \n",
      "array string looping\n",
      "array_string_looping\n",
      "arraystringlooping\n",
      "array🌲string🌲looping\n",
      "array/string/looping\n",
      "harshshukla@Harshs-MacBook-Air ~ %\n"
     ]
    }
   ],
   "source": [
    "print()\n",
    "print('HELLO')\n",
    "print('Example String ')\n",
    "print('array','string','looping' )\n",
    "print('array','string','looping',sep='_' )\n",
    "print('array','string','looping',sep='' )\n",
    "print('array','string','looping',sep='🌲' )\n",
    "print('array','string','looping',sep='/' )\n",
    "print( 'harshshukla@Harshs-MacBook-Air ~ %',sep='/' )"
   ]
  },
  {
   "cell_type": "code",
   "execution_count": 43,
   "metadata": {},
   "outputs": [
    {
     "name": "stdout",
     "output_type": "stream",
     "text": [
      "['apple', 'mango', 'banana']\n",
      "apple\n",
      "mango\n",
      "banana\n"
     ]
    }
   ],
   "source": [
    "fruits = ['apple','mango','banana']\n",
    "print(fruits)\n",
    "print(*fruits,sep='\\n') #hack to print in new lines "
   ]
  },
  {
   "cell_type": "markdown",
   "metadata": {},
   "source": [
    "# displaying content with variables "
   ]
  },
  {
   "cell_type": "code",
   "execution_count": 27,
   "metadata": {},
   "outputs": [
    {
     "name": "stdout",
     "output_type": "stream",
     "text": [
      "Result  10 + 20 = 30\n",
      "Result  10 + 20 = 30\n"
     ]
    }
   ],
   "source": [
    "a,b,=10,20\n",
    "c=a+b\n",
    "print ('Result ',a,'+',b,'=',c)#comma seperated \n",
    "print (f'Result  {a} + {b} = {c}')#f-string \n"
   ]
  },
  {
   "cell_type": "code",
   "execution_count": 30,
   "metadata": {},
   "outputs": [
    {
     "name": "stdout",
     "output_type": "stream",
     "text": [
      "HI,2,who are you \n"
     ]
    }
   ],
   "source": [
    "a= int(input())\n",
    "name = input(\"Hope doing well\")\n",
    "\n",
    "print(f'HI,{name},who are you ')"
   ]
  },
  {
   "cell_type": "code",
   "execution_count": 55,
   "metadata": {},
   "outputs": [
    {
     "name": "stdout",
     "output_type": "stream",
     "text": [
      "Simple Interest Calculated\n",
      "Principal => 1000\n",
      "Rate of Interest=> 15.0\n",
      "Time(yrs) => 5\n",
      "---------------------------------------------\n",
      "Simple Interest will be => 750.0\n"
     ]
    }
   ],
   "source": [
    "# calculating simple interst \n",
    "p= int(input(\"Enter the principal amount:\"))\n",
    "r= float(input(\"Enter the rate of interest:\"))\n",
    "t= int(input(\"Enter the time in years:\"))\n",
    "si=p*r*t/100\n",
    "print(\"Simple Interest Calculated\")\n",
    "print(f'Principal => {p}')\n",
    "print(f'Rate of Interest=> {r}')\n",
    "print(f'Time(yrs) => {t}')\n",
    "print(\"---\"*15)\n",
    "print(f'Simple Interest will be => {si}')"
   ]
  },
  {
   "cell_type": "markdown",
   "metadata": {},
   "source": [
    "# Alingment and Formating "
   ]
  },
  {
   "cell_type": "code",
   "execution_count": 58,
   "metadata": {},
   "outputs": [
    {
     "name": "stdout",
     "output_type": "stream",
     "text": [
      "Python\n",
      "Python\n",
      "              Python\n",
      "       Python       \n",
      "1500.74495894339\n",
      "    1500.74495894339\n",
      "1500.74495894339    \n",
      "  1500.74495894339  \n",
      "             1500.74\n",
      "            1500.745\n"
     ]
    }
   ],
   "source": [
    "word= 'Python'\n",
    "print(word)\n",
    "print(f\"{word}\")\n",
    "print(f\"{word:>20}\") #right align \n",
    "print(f\"{word:^20}\") # center \n",
    "num = 1500.74495894339\n",
    "print(f\"{num}\")\n",
    "print(f\"{num:20}\")\n",
    "print(f\"{num:<20}\")\n",
    "print(f\"{num:^20}\")\n",
    "print(f\"{num:20.2f}\")\n",
    "print(f\"{num:20.3f}\")"
   ]
  },
  {
   "cell_type": "code",
   "execution_count": 66,
   "metadata": {},
   "outputs": [
    {
     "name": "stdout",
     "output_type": "stream",
     "text": [
      "Simple Interest Calculated\n",
      "---------------------------------------------\n",
      "Principal                  1000\n",
      "Rate of Interest           15.0\n",
      "Time(yrs)                     5\n",
      "---------------------------------------------\n",
      "Simple Interest will be 750.0\n"
     ]
    }
   ],
   "source": [
    "# si in presentable way\n",
    "print(\"Simple Interest Calculated\")\n",
    "print(\"---\"*15)\n",
    "print(f'Principal  {p:20}')\n",
    "print(f'Rate of Interest {r:14}')\n",
    "print(f'Time(yrs)  {t:20}')\n",
    "print(\"---\"*15)\n",
    "print(f'Simple Interest will be {si}')"
   ]
  },
  {
   "cell_type": "code",
   "execution_count": 68,
   "metadata": {},
   "outputs": [
    {
     "name": "stdout",
     "output_type": "stream",
     "text": [
      "Volume of Square Calculated\n",
      "------------------------------\n",
      "side  55\n",
      "------------------------------\n",
      "Volume of Squaret will be  165\n"
     ]
    }
   ],
   "source": [
    "# volume of square \n",
    "s= int(input(\"Enter the side :\"))\n",
    "v= s*3\n",
    "print(\"Volume of Square Calculated\")\n",
    "print(\"---\"*10)\n",
    "print(f'side  {s}')\n",
    "print(\"---\"*10)\n",
    "print(f'Volume of Squaret will be  {v}')"
   ]
  },
  {
   "cell_type": "code",
   "execution_count": 35,
   "metadata": {},
   "outputs": [
    {
     "name": "stdout",
     "output_type": "stream",
     "text": [
      "$$$$$$$$$$$$$$$$$$$$$$$$$$$$$$$$$$$$$$$$\n",
      "Volume of cylinder will be  1413.0\n",
      "$$$$$$$$$$$$$$$$$$$$$$$$$$$$$$$$$$$$$$$$\n"
     ]
    }
   ],
   "source": [
    "# volume of cylinder\n",
    "r= int(input(\"Enter radius of cylinder \"))\n",
    "h= int(input(\"Enter height of cylinder \"))\n",
    "v= 3.14*r*r*h\n",
    "print(\"$$$$\"*10)\n",
    "print(f\"Volume of cylinder will be  {v}\")\n",
    "print(\"$$$$\"*10)"
   ]
  },
  {
   "cell_type": "code",
   "execution_count": null,
   "metadata": {},
   "outputs": [],
   "source": []
  }
 ],
 "metadata": {
  "kernelspec": {
   "display_name": "Python 3",
   "language": "python",
   "name": "python3"
  },
  "language_info": {
   "codemirror_mode": {
    "name": "ipython",
    "version": 3
   },
   "file_extension": ".py",
   "mimetype": "text/x-python",
   "name": "python",
   "nbconvert_exporter": "python",
   "pygments_lexer": "ipython3",
   "version": "3.12.2"
  },
  "orig_nbformat": 4
 },
 "nbformat": 4,
 "nbformat_minor": 2
}
