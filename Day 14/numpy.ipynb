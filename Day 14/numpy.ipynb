{
 "cells": [
  {
   "cell_type": "code",
   "execution_count": 3,
   "metadata": {},
   "outputs": [],
   "source": [
    "import numpy as np"
   ]
  },
  {
   "cell_type": "code",
   "execution_count": 14,
   "metadata": {},
   "outputs": [
    {
     "name": "stdout",
     "output_type": "stream",
     "text": [
      "10\n"
     ]
    }
   ],
   "source": [
    "x = [[1,2],[3,4]]\n",
    "total = 0\n",
    "for i in x:\n",
    "   total = total +sum(i)\n",
    "print(total)"
   ]
  },
  {
   "cell_type": "code",
   "execution_count": 20,
   "metadata": {},
   "outputs": [
    {
     "name": "stdout",
     "output_type": "stream",
     "text": [
      "[[1 2]\n",
      " [3 4]]\n",
      "10\n",
      "1\n",
      "4\n",
      "2.5\n",
      "1.118033988749895\n",
      "1.25\n",
      "(2, 2)\n",
      "4\n",
      "int64\n"
     ]
    }
   ],
   "source": [
    "x = [[1,2],[3,4]]\n",
    "nx = np.array(x)\n",
    "print(nx)\n",
    "print(nx.sum())\n",
    "print(nx.min())\n",
    "print(nx.max())\n",
    "print(nx.mean())\n",
    "print(nx.std())\n",
    "print(nx.var())\n",
    "type(nx)\n",
    "print(nx.shape)  # shape of matrix\n",
    "print(nx.size)   # total elements\n",
    "print(nx.dtype)  # type of elements\n"
   ]
  },
  {
   "cell_type": "code",
   "execution_count": 25,
   "metadata": {},
   "outputs": [
    {
     "name": "stdout",
     "output_type": "stream",
     "text": [
      "[[1 2 3]\n",
      " [3 4 3]\n",
      " [1 2 3]]\n"
     ]
    }
   ],
   "source": [
    "x = [[1,2,3],[3,4,3],[1,2,3]]\n",
    "nx = np.array(x)\n",
    "print(nx)"
   ]
  },
  {
   "cell_type": "markdown",
   "metadata": {},
   "source": [
    "# Funtions to create matrix\n",
    "- arange- create a range of numbers \n",
    "- linspace- create a matrox of specified numbers of elements\n",
    "- ones- cteate a matrix of ones\n",
    "- zeors- create a matrix of zeros\n",
    "- random.rand- create a matrix of random floats\n",
    "- diag- create a matrix with diagonal elements "
   ]
  },
  {
   "cell_type": "code",
   "execution_count": 31,
   "metadata": {},
   "outputs": [
    {
     "name": "stdout",
     "output_type": "stream",
     "text": [
      "[ 1  2  3  4  5  6  7  8  9 10 11 12 13 14 15 16 17 18 19 20 21 22 23 24\n",
      " 25 26 27 28 29 30 31 32 33 34 35 36 37 38 39 40 41 42 43 44 45 46 47 48\n",
      " 49 50]\n",
      "[1.    1.002 1.004 ... 4.994 4.996 4.998]\n"
     ]
    }
   ],
   "source": [
    "a = np.arange(1, 51)\n",
    "print(a)\n"
   ]
  },
  {
   "cell_type": "code",
   "execution_count": 35,
   "metadata": {},
   "outputs": [
    {
     "name": "stdout",
     "output_type": "stream",
     "text": [
      "[1.   1.02 1.04 1.06 1.08 1.1  1.12 1.14 1.16 1.18 1.2  1.22 1.24 1.26\n",
      " 1.28 1.3  1.32 1.34 1.36 1.38 1.4  1.42 1.44 1.46 1.48 1.5  1.52 1.54\n",
      " 1.56 1.58 1.6  1.62 1.64 1.66 1.68 1.7  1.72 1.74 1.76 1.78 1.8  1.82\n",
      " 1.84 1.86 1.88 1.9  1.92 1.94 1.96 1.98 2.   2.02 2.04 2.06 2.08 2.1\n",
      " 2.12 2.14 2.16 2.18 2.2  2.22 2.24 2.26 2.28 2.3  2.32 2.34 2.36 2.38\n",
      " 2.4  2.42 2.44 2.46 2.48 2.5  2.52 2.54 2.56 2.58 2.6  2.62 2.64 2.66\n",
      " 2.68 2.7  2.72 2.74 2.76 2.78 2.8  2.82 2.84 2.86 2.88 2.9  2.92 2.94\n",
      " 2.96 2.98 3.   3.02 3.04 3.06 3.08 3.1  3.12 3.14 3.16 3.18 3.2  3.22\n",
      " 3.24 3.26 3.28 3.3  3.32 3.34 3.36 3.38 3.4  3.42 3.44 3.46 3.48 3.5\n",
      " 3.52 3.54 3.56 3.58 3.6  3.62 3.64 3.66 3.68 3.7  3.72 3.74 3.76 3.78\n",
      " 3.8  3.82 3.84 3.86 3.88 3.9  3.92 3.94 3.96 3.98 4.   4.02 4.04 4.06\n",
      " 4.08 4.1  4.12 4.14 4.16 4.18 4.2  4.22 4.24 4.26 4.28 4.3  4.32 4.34\n",
      " 4.36 4.38 4.4  4.42 4.44 4.46 4.48 4.5  4.52 4.54 4.56 4.58 4.6  4.62\n",
      " 4.64 4.66 4.68 4.7  4.72 4.74 4.76 4.78 4.8  4.82 4.84 4.86 4.88 4.9\n",
      " 4.92 4.94 4.96 4.98]\n"
     ]
    }
   ],
   "source": [
    "print(np.arange(1, 5, .02))"
   ]
  },
  {
   "cell_type": "code",
   "execution_count": 40,
   "metadata": {},
   "outputs": [
    {
     "data": {
      "text/plain": [
       "array([  1.,  12.,  23.,  34.,  45.,  56.,  67.,  78.,  89., 100.])"
      ]
     },
     "execution_count": 40,
     "metadata": {},
     "output_type": "execute_result"
    }
   ],
   "source": [
    "np.linspace(1, 100, 10)"
   ]
  },
  {
   "cell_type": "code",
   "execution_count": 52,
   "metadata": {},
   "outputs": [
    {
     "name": "stdout",
     "output_type": "stream",
     "text": [
      "[1. 1. 1. 1. 1. 1. 1. 1. 1. 1.]\n",
      "\n",
      "\n",
      "[[1. 1. 1.]\n",
      " [1. 1. 1.]\n",
      " [1. 1. 1.]]\n",
      "\n",
      "\n"
     ]
    },
    {
     "data": {
      "text/plain": [
       "array([[1, 1, 1, 1],\n",
       "       [1, 1, 1, 1],\n",
       "       [1, 1, 1, 1],\n",
       "       [1, 1, 1, 1]])"
      ]
     },
     "execution_count": 52,
     "metadata": {},
     "output_type": "execute_result"
    }
   ],
   "source": [
    "print(np.ones(10))\n",
    "print(\"\\n\")\n",
    "print(np.ones((3,3)))\n",
    "print(\"\\n\")\n",
    "np.ones((4,4), dtype=int)"
   ]
  },
  {
   "cell_type": "code",
   "execution_count": 55,
   "metadata": {},
   "outputs": [
    {
     "name": "stdout",
     "output_type": "stream",
     "text": [
      "[0. 0. 0. 0.]\n"
     ]
    }
   ],
   "source": [
    "print(np.zeros(4))"
   ]
  },
  {
   "cell_type": "code",
   "execution_count": 57,
   "metadata": {},
   "outputs": [
    {
     "data": {
      "text/plain": [
       "array([28, 15, 31, 85, 86,  5, 73, 57, 89, 55])"
      ]
     },
     "execution_count": 57,
     "metadata": {},
     "output_type": "execute_result"
    }
   ],
   "source": [
    "np.random.randint(1, 100, 10)"
   ]
  },
  {
   "cell_type": "code",
   "execution_count": 58,
   "metadata": {},
   "outputs": [
    {
     "data": {
      "text/plain": [
       "array([[ 5,  0, -3,  3, -2],\n",
       "       [-3,  4,  4,  0,  5],\n",
       "       [ 4,  5, -5,  2,  5],\n",
       "       [ 4,  3,  2,  2, -1],\n",
       "       [ 4,  2,  5,  0, -5]])"
      ]
     },
     "execution_count": 58,
     "metadata": {},
     "output_type": "execute_result"
    }
   ],
   "source": [
    "np.random.randint(-5, 6, (5,5))"
   ]
  },
  {
   "cell_type": "code",
   "execution_count": 60,
   "metadata": {},
   "outputs": [
    {
     "data": {
      "text/plain": [
       "array([0.9293356 , 0.33274404, 0.56883273, 0.31277856, 0.28689472])"
      ]
     },
     "execution_count": 60,
     "metadata": {},
     "output_type": "execute_result"
    }
   ],
   "source": [
    "np.random.rand(5)  # num of elements "
   ]
  },
  {
   "cell_type": "code",
   "execution_count": 61,
   "metadata": {},
   "outputs": [
    {
     "data": {
      "text/plain": [
       "array([[0.14605583, 0.97315173, 0.46803008, 0.73721686, 0.73665926],\n",
       "       [0.49322737, 0.63165354, 0.7495048 , 0.71836558, 0.5450252 ],\n",
       "       [0.35751497, 0.45949019, 0.29689341, 0.65924838, 0.99481811],\n",
       "       [0.35551378, 0.31079961, 0.19852612, 0.95946726, 0.75482878],\n",
       "       [0.20531854, 0.62269121, 0.93608384, 0.31093572, 0.21332349],\n",
       "       [0.74525708, 0.43533306, 0.74005903, 0.81677992, 0.31127817],\n",
       "       [0.47484538, 0.38646883, 0.86489511, 0.84491464, 0.37906836],\n",
       "       [0.33882342, 0.07970431, 0.65862107, 0.30330558, 0.31706131],\n",
       "       [0.47232441, 0.13642309, 0.28593086, 0.88985618, 0.73174856],\n",
       "       [0.06990507, 0.09347034, 0.90850583, 0.64881124, 0.3925553 ]])"
      ]
     },
     "execution_count": 61,
     "metadata": {},
     "output_type": "execute_result"
    }
   ],
   "source": [
    "np.random.rand(10,5)   # 10 *10 matrix "
   ]
  },
  {
   "cell_type": "code",
   "execution_count": 62,
   "metadata": {},
   "outputs": [
    {
     "data": {
      "text/plain": [
       "array([[0.696, 0.059, 0.299, 0.368, 0.987],\n",
       "       [0.064, 0.891, 0.08 , 0.34 , 0.093],\n",
       "       [0.612, 0.177, 0.092, 0.077, 0.816],\n",
       "       [0.967, 0.382, 0.121, 0.215, 0.393],\n",
       "       [0.966, 0.944, 0.593, 0.455, 0.887],\n",
       "       [0.176, 0.563, 0.919, 0.891, 0.874],\n",
       "       [0.632, 0.855, 0.488, 0.148, 0.705],\n",
       "       [0.566, 0.189, 0.161, 0.493, 0.243],\n",
       "       [0.203, 0.063, 0.096, 0.456, 0.892],\n",
       "       [0.797, 0.993, 0.332, 0.997, 0.667]])"
      ]
     },
     "execution_count": 62,
     "metadata": {},
     "output_type": "execute_result"
    }
   ],
   "source": [
    "np.set_printoptions(precision=3)    # set precision to 3\n",
    "np.random.rand(10,5)"
   ]
  },
  {
   "cell_type": "code",
   "execution_count": 64,
   "metadata": {},
   "outputs": [
    {
     "data": {
      "text/plain": [
       "array([[1, 0, 0, 0, 0, 0, 0, 0, 0],\n",
       "       [0, 2, 0, 0, 0, 0, 0, 0, 0],\n",
       "       [0, 0, 3, 0, 0, 0, 0, 0, 0],\n",
       "       [0, 0, 0, 4, 0, 0, 0, 0, 0],\n",
       "       [0, 0, 0, 0, 5, 0, 0, 0, 0],\n",
       "       [0, 0, 0, 0, 0, 6, 0, 0, 0],\n",
       "       [0, 0, 0, 0, 0, 0, 7, 0, 0],\n",
       "       [0, 0, 0, 0, 0, 0, 0, 8, 0],\n",
       "       [0, 0, 0, 0, 0, 0, 0, 0, 9]])"
      ]
     },
     "execution_count": 64,
     "metadata": {},
     "output_type": "execute_result"
    }
   ],
   "source": [
    "a = [1,2,3,4,5,6,7,8,9]\n",
    "np.diag(a)"
   ]
  },
  {
   "cell_type": "code",
   "execution_count": 70,
   "metadata": {},
   "outputs": [
    {
     "name": "stdout",
     "output_type": "stream",
     "text": [
      "[[0 1 2 3 4]\n",
      " [5 6 7 8 9]]\n",
      "[[0 1]\n",
      " [2 3]\n",
      " [4 5]\n",
      " [6 7]\n",
      " [8 9]]\n",
      "[[0 1 2 3 4 5 6 7 8 9]]\n",
      "[[0]\n",
      " [1]\n",
      " [2]\n",
      " [3]\n",
      " [4]\n",
      " [5]\n",
      " [6]\n",
      " [7]\n",
      " [8]\n",
      " [9]]\n"
     ]
    }
   ],
   "source": [
    "# reshape \n",
    "print(np.arange(10).reshape(2,5))\n",
    "print(np.arange(10).reshape(5,2))\n",
    "print(np.arange(10).reshape(1,10))\n",
    "print(np.arange(10).reshape(10,1))"
   ]
  },
  {
   "cell_type": "code",
   "execution_count": 79,
   "metadata": {},
   "outputs": [
    {
     "name": "stdout",
     "output_type": "stream",
     "text": [
      "[[1.    1.167 1.333 1.5   1.667]\n",
      " [1.833 2.    2.167 2.333 2.5  ]\n",
      " [2.667 2.833 3.    3.167 3.333]\n",
      " [3.5   3.667 3.833 4.    4.167]\n",
      " [4.333 4.5   4.667 4.833 5.   ]]\n"
     ]
    }
   ],
   "source": [
    "b = np.linspace(1, 5, 25).reshape(5,5)\n",
    "print(b)"
   ]
  },
  {
   "cell_type": "code",
   "execution_count": 80,
   "metadata": {},
   "outputs": [
    {
     "data": {
      "text/plain": [
       "array([1.   , 1.167, 1.333, 1.5  , 1.667, 1.833, 2.   , 2.167, 2.333,\n",
       "       2.5  , 2.667, 2.833, 3.   , 3.167, 3.333, 3.5  , 3.667, 3.833,\n",
       "       4.   , 4.167, 4.333, 4.5  , 4.667, 4.833, 5.   ])"
      ]
     },
     "execution_count": 80,
     "metadata": {},
     "output_type": "execute_result"
    }
   ],
   "source": [
    "b.flatten()"
   ]
  },
  {
   "cell_type": "code",
   "execution_count": 81,
   "metadata": {},
   "outputs": [
    {
     "name": "stdout",
     "output_type": "stream",
     "text": [
      "[[ 1  2  3  4  5]\n",
      " [ 6  7  8  9 10]\n",
      " [11 12 13 14 15]\n",
      " [16 17 18 19 20]\n",
      " [21 22 23 24 25]]\n"
     ]
    }
   ],
   "source": [
    "y = np.arange(1, 26).reshape(5,5)\n",
    "print(y)"
   ]
  },
  {
   "cell_type": "code",
   "execution_count": 82,
   "metadata": {},
   "outputs": [
    {
     "data": {
      "text/plain": [
       "array([[ 1,  6, 11, 16, 21],\n",
       "       [ 2,  7, 12, 17, 22],\n",
       "       [ 3,  8, 13, 18, 23],\n",
       "       [ 4,  9, 14, 19, 24],\n",
       "       [ 5, 10, 15, 20, 25]])"
      ]
     },
     "execution_count": 82,
     "metadata": {},
     "output_type": "execute_result"
    }
   ],
   "source": [
    "y.transpose()"
   ]
  },
  {
   "cell_type": "code",
   "execution_count": 87,
   "metadata": {},
   "outputs": [
    {
     "name": "stdout",
     "output_type": "stream",
     "text": [
      "[[9 1 1]\n",
      " [6 6 6]\n",
      " [8 8 8]]\n",
      "\n",
      "\n",
      "[[2 5 1]\n",
      " [8 5 2]\n",
      " [6 4 7]]\n",
      "\n",
      "\n",
      "[[11  6  2]\n",
      " [14 11  8]\n",
      " [14 12 15]]\n",
      "\n",
      "\n",
      "[[ 7 -4  0]\n",
      " [-2  1  4]\n",
      " [ 2  4  1]]\n",
      "\n",
      "\n",
      "[[18  5  1]\n",
      " [48 30 12]\n",
      " [48 32 56]]\n",
      "\n",
      "\n",
      "[[4.5   0.2   1.   ]\n",
      " [0.75  1.2   3.   ]\n",
      " [1.333 2.    1.143]]\n"
     ]
    }
   ],
   "source": [
    "# Maths \n",
    "\n",
    "a = np.random.randint(1,10,(3,3))\n",
    "b = np.random.randint(1,10,(3,3))\n",
    "print(a)\n",
    "print(\"\\n\")\n",
    "print(b)\n",
    "print(\"\\n\")\n",
    "print(a+b)\n",
    "print(\"\\n\")\n",
    "print(a-b)\n",
    "print(\"\\n\")\n",
    "print(a*b)\n",
    "print(\"\\n\")\n",
    "print(a/b)"
   ]
  },
  {
   "cell_type": "code",
   "execution_count": 88,
   "metadata": {},
   "outputs": [
    {
     "data": {
      "text/plain": [
       "array([[ 32,  54,  18],\n",
       "       [ 96,  84,  60],\n",
       "       [128, 112,  80]])"
      ]
     },
     "execution_count": 88,
     "metadata": {},
     "output_type": "execute_result"
    }
   ],
   "source": [
    "a.dot(b)  # dot product (matrix multiplication)"
   ]
  },
  {
   "cell_type": "code",
   "execution_count": 90,
   "metadata": {},
   "outputs": [
    {
     "data": {
      "text/plain": [
       "array([[19, 11, 11],\n",
       "       [16, 16, 16],\n",
       "       [18, 18, 18]])"
      ]
     },
     "execution_count": 90,
     "metadata": {},
     "output_type": "execute_result"
    }
   ],
   "source": [
    "a + 10"
   ]
  },
  {
   "cell_type": "code",
   "execution_count": 96,
   "metadata": {},
   "outputs": [
    {
     "name": "stdout",
     "output_type": "stream",
     "text": [
      "5.888888888888889\n",
      "[7.667 5.    5.   ]\n",
      "[3.667 6.    8.   ]\n",
      "[23 15 15]\n",
      "[11 18 24]\n"
     ]
    }
   ],
   "source": [
    "# Stats \n",
    "\n",
    "print(a.mean())\n",
    "print(a.mean(axis=0))  # column wise mean\n",
    "print(a.mean(axis=1))  # row wise mean \n",
    "print(a.sum(axis=0))   # column wise sum\n",
    "print(a.sum(axis=1))   # row wise sum "
   ]
  },
  {
   "cell_type": "code",
   "execution_count": 103,
   "metadata": {},
   "outputs": [
    {
     "name": "stdout",
     "output_type": "stream",
     "text": [
      "[[ 0.412  0.841  0.841]\n",
      " [-0.279 -0.279 -0.279]\n",
      " [ 0.989  0.989  0.989]]\n",
      "[[-0.911  0.54   0.54 ]\n",
      " [ 0.96   0.96   0.96 ]\n",
      " [-0.146 -0.146 -0.146]]\n",
      "[[-0.452  1.557  1.557]\n",
      " [-0.291 -0.291 -0.291]\n",
      " [-6.8   -6.8   -6.8  ]]\n"
     ]
    }
   ],
   "source": [
    "print(np.sin(a))\n",
    "\n",
    "\n",
    "print(np.cos(a))\n",
    "\n",
    "\n",
    "print(np.tan(a))"
   ]
  },
  {
   "cell_type": "code",
   "execution_count": 104,
   "metadata": {},
   "outputs": [
    {
     "name": "stdout",
     "output_type": "stream",
     "text": [
      "[[8.103e+03 2.718e+00 2.718e+00]\n",
      " [4.034e+02 4.034e+02 4.034e+02]\n",
      " [2.981e+03 2.981e+03 2.981e+03]]\n"
     ]
    }
   ],
   "source": [
    "print(np.exp(a))\n",
    "print(np.max(a))\n",
    "print(np.min(a))\n",
    "print(np.exp(a))\n",
    "print(np.exp(a))"
   ]
  },
  {
   "cell_type": "code",
   "execution_count": 5,
   "metadata": {},
   "outputs": [
    {
     "name": "stdout",
     "output_type": "stream",
     "text": [
      "[[61 98 89 37 24]\n",
      " [18 84 56 59 44]]\n"
     ]
    }
   ],
   "source": [
    "x = np.random.randint(1, 100, (2,5))\n",
    "print(x)"
   ]
  },
  {
   "cell_type": "code",
   "execution_count": 6,
   "metadata": {},
   "outputs": [
    {
     "name": "stdout",
     "output_type": "stream",
     "text": [
      "98\n",
      "1\n",
      "18\n",
      "5\n"
     ]
    }
   ],
   "source": [
    "print(x.max())     # max element\n",
    "print(x.argmax())  # index of max element \n",
    "print(x.min())     # min element \n",
    "print(x.argmin())  # index of min element"
   ]
  }
 ],
 "metadata": {
  "kernelspec": {
   "display_name": "Python 3",
   "language": "python",
   "name": "python3"
  },
  "language_info": {
   "codemirror_mode": {
    "name": "ipython",
    "version": 3
   },
   "file_extension": ".py",
   "mimetype": "text/x-python",
   "name": "python",
   "nbconvert_exporter": "python",
   "pygments_lexer": "ipython3",
   "version": "3.12.2"
  }
 },
 "nbformat": 4,
 "nbformat_minor": 2
}
